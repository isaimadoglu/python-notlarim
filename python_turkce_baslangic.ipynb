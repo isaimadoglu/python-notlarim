{
 "cells": [
  {
   "cell_type": "markdown",
   "metadata": {
    "colab_type": "text",
    "id": "FSPDQrlU674-"
   },
   "source": [
    "# Python Türkçe Başlangıç"
   ]
  },
  {
   "cell_type": "markdown",
   "metadata": {},
   "source": [
    "### [GOOGLE COLAB ÜZERİNDE ÇALIŞTIR!](http://colab.research.google.com/github/fuatbeser/python-notlarim/blob/master/python_turkce_baslangic.ipynb)\n",
    "\n",
    "- [Github](https://github.com/fuatbeser/python-notlarim)\n",
    "- [Jupyter Notebook Viewer](http://nbviewer.jupyter.org/github/fuatbeser/python-notlarim/blob/master/python_turkce_baslangic.ipynb)"
   ]
  },
  {
   "cell_type": "markdown",
   "metadata": {
    "colab_type": "text",
    "id": "r9kM6ZMo675H"
   },
   "source": [
    "## Giriş"
   ]
  },
  {
   "cell_type": "markdown",
   "metadata": {
    "colab_type": "text",
    "id": "8YRuT1aA675R"
   },
   "source": [
    "Genel amaçlı bir programlama dili olan **Python**, bazı popüler kütüphanelerin (*Numpy, Scipy, Pandas, Matplotlib* vb.) de yardımıyla **Makine Öğrenmesi, Derin Öğrenme, Optimizasyon, İstatistik ve Veri Bilimi** için harika bir ortam sunmaktadır.\n",
    "\n",
    "[Fuat BEŞER](https://www.linkedin.com/in/fuatbeser/) tarafından en altta yer alan referanslar kullanılarak hazırlanmıştır. Gördüğünüz hataları **Pull Request** açarak belirtebilirsiniz."
   ]
  },
  {
   "cell_type": "markdown",
   "metadata": {
    "colab_type": "text",
    "id": "5MK_b7zS675T"
   },
   "source": [
    "### İçerik\n",
    "* [Python Temelleri](#Python-Temelleri)\n",
    " * [Python Versiyon Kontrolü](#Python-Versiyon-Kontrolü)\n",
    " * [Temel Veri Tipleri](#Temel-Veri-Tipleri) \n",
    "   * [Sayılar](#Sayılar)\n",
    "   * [Mantıksal Veriler](#Mantıksal-Veriler-(Booleans))   \n",
    "   * [Karakter Dizileri (Strings)](#Karakter-Dizileri-(Strings))\n",
    "  * [Listeler](#Listeler)\n",
    "  * [Dilimleme (Slicing)](#Dilimleme-(Slicing))\n",
    "  * [Döngüler](#Döngüler)\n",
    "  * [Sözlükler](#Sözlükler)\n",
    "  * [Kümeler (Sets)](#Kümeler-(Sets))\n",
    "  * [Demetler (Tuples)](#Demetler-(Tuples))\n",
    "  * [Fonksiyonlar](#Fonksiyonlar)\n",
    "  * [Sınıflar (Classes)](#Sınıflar-(Classes))\n",
    "* [Numpy](#Numpy)\n",
    " * [Diziler](#Diziler)\n",
    " * [Dizi İndeksleme](#Dizi-İndeksleme)\n",
    " * [Numpy Veri Tipleri](#Numpy-Veri-Tipleri)\n",
    " * [Dizilerde Matematiksel İşlemler](#Dizilerde-Matematiksel-İşlemler)\n",
    "   * [Toplama](#Toplama)\n",
    "   * [Çıkarma](#Çıkarma)\n",
    "   * [Çarpma](#Çarpma)\n",
    "   * [Bölme](#Bölme)\n",
    "   * [Kök Alma](#Kök-Alma)\n",
    "   * [Matris Çarpımı (Vektörel Çarpım)](#Matris-Çarpımı-(Vektörel-Çarpım))\n",
    "   * [Matris Elemanlarını Toplama](#Matris-Elemanlarını-Toplama)\n",
    "   * [Matris Transpozunu Alma](#Matris-Transpozu-Alma)\n",
    "   * [Broadcasting](#Broadcasting)\n",
    "* [Pandas](#Pandas)\n",
    "* [Matplotlib](#Matplotlib)\n",
    " * [Çizdirme (Plotting)](#Çizdirme-(Plotting))\n",
    "   * [Sinüs Fonksiyonu](#Sinüs-Fonksiyonu)\n",
    " * [Alt Çizimler](#Alt-Çizimler-(Subplots))   "
   ]
  },
  {
   "cell_type": "markdown",
   "metadata": {
    "colab_type": "text",
    "id": "KRWMIJYz675W"
   },
   "source": [
    "## Python Temelleri"
   ]
  },
  {
   "cell_type": "markdown",
   "metadata": {
    "colab_type": "text",
    "id": "3Vcvj5uw675Y"
   },
   "source": [
    "Yazımının çok kolay olması nedeniyle dünya üzerinde çok fazla kişi tarafından kullanılan Python, yüksek seviyeli bir programlama dilidir. \"Python\" ismi [Monty Python's Flying Circus](https://www.imdb.com/title/tt0063929/) isimli bir TV dizisinden gelmektedir. Python'un kısa geçmişini [şu yazıdan](https://www.python-course.eu/python3_history_and_philosophy.php) okuyabilirsiniz.  \n",
    "\n",
    "![Monty Python](http://raw.githubusercontent.com/fuatbeser/python-notlarim/master/dosyalar/monty_python.jpg)\n",
    "\n",
    "Bir sayı dizisini küçükten büyüğe (ya da tam tersi) sıralamak için kullanılabilecek `sirala` fonksiyonunun Python programlama dilinde aşağıdaki gibi tanımlayabiliriz."
   ]
  },
  {
   "cell_type": "code",
   "execution_count": 1,
   "metadata": {
    "colab": {},
    "colab_type": "code",
    "id": "qqf0XUDL675b",
    "outputId": "d3a3434a-728c-4275-d640-e2f88dfa5c30"
   },
   "outputs": [
    {
     "name": "stdout",
     "output_type": "stream",
     "text": [
      "[1, 1, 2, 3, 6, 8, 10]\n"
     ]
    }
   ],
   "source": [
    "def sirala(dizi):\n",
    "    if len(dizi) <= 1:\n",
    "        return dizi\n",
    "    referans = dizi[len(dizi) // 2]\n",
    "    sol = [x for x in dizi if x < referans]\n",
    "    orta = [x for x in dizi if x == referans]\n",
    "    sag = [x for x in dizi if x > referans]\n",
    "    return sirala(sol) + orta + sirala(sag)\n",
    "\n",
    "print (sirala([3,6,8,10,1,2,1]))"
   ]
  },
  {
   "cell_type": "markdown",
   "metadata": {
    "colab_type": "text",
    "id": "ExKZ_5fK675m"
   },
   "source": [
    "### Python Versiyon Kontrolü"
   ]
  },
  {
   "cell_type": "markdown",
   "metadata": {
    "colab_type": "text",
    "id": "FFIeK5PM675o"
   },
   "source": [
    "Python 2 ve 3 olmak üzere iki temel sürüm mevcuttur. Kullandığınız Python sürümünü öğrenmek için komut satırından `python --version` komutunu çalıştırabilirsiniz."
   ]
  },
  {
   "cell_type": "code",
   "execution_count": 2,
   "metadata": {},
   "outputs": [
    {
     "name": "stdout",
     "output_type": "stream",
     "text": [
      "Python 3.5.5 :: Anaconda, Inc.\n"
     ]
    }
   ],
   "source": [
    "!python --version"
   ]
  },
  {
   "cell_type": "markdown",
   "metadata": {},
   "source": [
    "### Yorum Satırları\n",
    "\n",
    "Yorum satırları derleme aşamasında (kodların çalıştırılıp çıkış üretilmesi) dikkate alınmaz.\n",
    "\n",
    "Aşağıdaki hücreyi çalıştırdığınızda satırın başında `#` işareti olduğu için **çıktı olarak bir şey göremezsiniz**. "
   ]
  },
  {
   "cell_type": "code",
   "execution_count": 3,
   "metadata": {},
   "outputs": [],
   "source": [
    "# TEK YORUM SATIRI"
   ]
  },
  {
   "cell_type": "markdown",
   "metadata": {},
   "source": [
    "### Ekrana Yazdırma (print)\n",
    "\n",
    "`print()` fonksiyonu ile ekrana yazdırma işlemlerini yaparız. Ayrıca `type()` ile _verinin tipini_, `len()` ile _verinin uzunluğunu_ görebiliriz."
   ]
  },
  {
   "cell_type": "code",
   "execution_count": 4,
   "metadata": {},
   "outputs": [
    {
     "name": "stdout",
     "output_type": "stream",
     "text": [
      "Merhaba\n",
      "Merhaba\n",
      "Merhaba\n",
      "Merhaba Merhaba\n",
      "<class 'str'>\n",
      "7\n",
      "M\n",
      "e\n",
      "a\n"
     ]
    }
   ],
   "source": [
    "# TEK YORUM SATIRI\n",
    "\n",
    "\"\"\"\n",
    "Her \n",
    "Satıra\n",
    "# İşareti\n",
    "Yazmak \n",
    "Yerine\n",
    "Üç \n",
    "Tırnak\n",
    "İşareti\n",
    "İle\n",
    "Birden\n",
    "Fazla\n",
    "Yorum \n",
    "Satırı\n",
    "Oluşturabilirsiniz\n",
    "\"\"\"\n",
    "\n",
    "merhaba = \"Merhaba\"\n",
    "\n",
    "print(\"Merhaba\") # Ekrana yazdırma\n",
    "print(merhaba) # Ekrana değişken yazdırma\n",
    "print(\"{}\".format(merhaba)) # .format() ile ekrana değişken yazdırma\n",
    "print(\"{} {}\".format(merhaba, merhaba)) # .format() ile ekrana iki değişken yazdırma\n",
    "\n",
    "print(type(merhaba)) # Veri tipi yazdırma\n",
    "print(len(merhaba)) # Uzunluk yazdırma\n",
    "\n",
    "print(merhaba[0]) # ilk harfi yazdırma\n",
    "print(merhaba[1]) # ikinci harfi yazdırma\n",
    "print(merhaba[4]) # beşinci harfi yazdırma"
   ]
  },
  {
   "cell_type": "markdown",
   "metadata": {},
   "source": [
    "### İpucu Fonksiyonları\n",
    "\n",
    "Bütün fonksiyonları ve fonksiyon parametrelerini ezberlemek zorunda değilsiniz. `help(fonksiyon_adi)` kullanmanızı tavsiye ederim."
   ]
  },
  {
   "cell_type": "code",
   "execution_count": 5,
   "metadata": {},
   "outputs": [
    {
     "name": "stdout",
     "output_type": "stream",
     "text": [
      "Help on built-in function len in module builtins:\n",
      "\n",
      "len(obj, /)\n",
      "    Return the number of items in a container.\n",
      "\n"
     ]
    }
   ],
   "source": [
    "help(len)"
   ]
  },
  {
   "cell_type": "markdown",
   "metadata": {
    "colab_type": "text",
    "id": "9Kn8t4LM675p"
   },
   "source": [
    "### Temel Veri Tipleri"
   ]
  },
  {
   "cell_type": "markdown",
   "metadata": {
    "colab_type": "text",
    "id": "8Fr6B1Rq675r"
   },
   "source": [
    "#### Sayılar"
   ]
  },
  {
   "cell_type": "markdown",
   "metadata": {
    "colab_type": "text",
    "id": "CQ2yrZ3D675x"
   },
   "source": [
    "Tam ve ondalıklı sayılar diğer programlama dillerinde olduğu gibi tanımlanmaktadır. "
   ]
  },
  {
   "cell_type": "code",
   "execution_count": 6,
   "metadata": {
    "colab": {
     "base_uri": "https://localhost:8080/",
     "height": 68
    },
    "colab_type": "code",
    "id": "KJbY-fBi675y",
    "outputId": "64d57351-bda6-4c60-bd66-5fc330f5f906"
   },
   "outputs": [
    {
     "name": "stdout",
     "output_type": "stream",
     "text": [
      "3\n",
      "<class 'int'>\n",
      "3 <class 'int'>\n"
     ]
    }
   ],
   "source": [
    "x = 3\n",
    "\n",
    "print(x) # x'i ekrana yazdırma\n",
    "print(type(x)) # x'in veri tipini ekrana yazdırma\n",
    "print (x, type(x)) # her ikisini birden ekrana yazdırma"
   ]
  },
  {
   "cell_type": "code",
   "execution_count": 7,
   "metadata": {
    "colab": {
     "base_uri": "https://localhost:8080/",
     "height": 85
    },
    "colab_type": "code",
    "id": "FpnT7z6S6759",
    "outputId": "a5fec759-9ecc-4d90-e000-5a10b7b8818d"
   },
   "outputs": [
    {
     "name": "stdout",
     "output_type": "stream",
     "text": [
      "4\n",
      "2\n",
      "6\n",
      "9\n"
     ]
    }
   ],
   "source": [
    "print (x + 1)   # toplama\n",
    "print (x - 1)   # çıkarma\n",
    "print (x * 2)   # çarpma\n",
    "print (x ** 2)  # üs alma"
   ]
  },
  {
   "cell_type": "code",
   "execution_count": 8,
   "metadata": {
    "colab": {
     "base_uri": "https://localhost:8080/",
     "height": 51
    },
    "colab_type": "code",
    "id": "GaHrJDRH676E",
    "outputId": "72e42696-8ac7-477e-f351-04be77adae81"
   },
   "outputs": [
    {
     "name": "stdout",
     "output_type": "stream",
     "text": [
      "4\n",
      "8\n"
     ]
    }
   ],
   "source": [
    "x += 1 # x = x + 1 yerine\n",
    "print (x) # x'in eski değeri 3, yeni değeri 4 (x + 1)\n",
    "\n",
    "x *= 2 # x = x * 2 yerine\n",
    "print (x) # x'in eski değeri 4, yeni değeri 8 (x * 2) "
   ]
  },
  {
   "cell_type": "code",
   "execution_count": 9,
   "metadata": {
    "colab": {
     "base_uri": "https://localhost:8080/",
     "height": 51
    },
    "colab_type": "code",
    "id": "NGQOOi0e676K",
    "outputId": "e3cedede-d0b2-4b1f-a54f-cc9f4b76143f"
   },
   "outputs": [
    {
     "name": "stdout",
     "output_type": "stream",
     "text": [
      "<class 'float'>\n",
      "2.5 3.5 5.0 6.25\n"
     ]
    }
   ],
   "source": [
    "y = 2.5\n",
    "print (type(y)) # \"<class 'float'>\"\n",
    "print (y, y + 1, y * 2, y ** 2) # \"2.5 3.5 5.0 6.25\""
   ]
  },
  {
   "cell_type": "markdown",
   "metadata": {
    "colab_type": "text",
    "id": "BfheGx_e676Q"
   },
   "source": [
    "**İPUCU**: Diğer programlama dillerinin aksine Python'da tekli artış (x++) ya da azalış (x--) operatörü yoktur. "
   ]
  },
  {
   "cell_type": "markdown",
   "metadata": {
    "colab_type": "text",
    "id": "PTAHQLZT676R"
   },
   "source": [
    "#### Mantıksal Veriler (Booleans)"
   ]
  },
  {
   "cell_type": "markdown",
   "metadata": {
    "colab_type": "text",
    "id": "dTyMhUTK676T"
   },
   "source": [
    "Python'da Boole cebri için `&&` ve `||` gibi semboller yerine `and`, `or` ve `not` gibi İngilizce kelimeler kullanılmaktadır."
   ]
  },
  {
   "cell_type": "code",
   "execution_count": 10,
   "metadata": {
    "colab": {},
    "colab_type": "code",
    "id": "VGJk8-Gi676U",
    "outputId": "0d4ff88c-11e7-41bd-fe88-5efccbb8033c"
   },
   "outputs": [
    {
     "name": "stdout",
     "output_type": "stream",
     "text": [
      "<class 'bool'>\n"
     ]
    }
   ],
   "source": [
    "t, f = True, False\n",
    "print (type(t)) # Ekrana \"<class 'bool'>\" yazdırır"
   ]
  },
  {
   "cell_type": "markdown",
   "metadata": {
    "colab_type": "text",
    "id": "43moWQ8M676e"
   },
   "source": [
    "Temel mantık işlemleri:"
   ]
  },
  {
   "cell_type": "code",
   "execution_count": 11,
   "metadata": {
    "colab": {},
    "colab_type": "code",
    "id": "xExtk_2a676f",
    "outputId": "16a11aea-d7aa-4e07-d4c1-a049ec482629"
   },
   "outputs": [
    {
     "name": "stdout",
     "output_type": "stream",
     "text": [
      "False\n",
      "True\n",
      "False\n",
      "True\n"
     ]
    }
   ],
   "source": [
    "print (t and f) # Mantıksal AND;\n",
    "print (t or f)  # Mantıksal OR;\n",
    "print (not t)   # Mantıksal NOT;\n",
    "print (t != f)  # Mantıksal XOR;"
   ]
  },
  {
   "cell_type": "markdown",
   "metadata": {
    "colab_type": "text",
    "id": "NNuBO6bO676k"
   },
   "source": [
    "#### Karakter Dizileri (Strings)"
   ]
  },
  {
   "cell_type": "code",
   "execution_count": 12,
   "metadata": {
    "colab": {
     "base_uri": "https://localhost:8080/",
     "height": 68
    },
    "colab_type": "code",
    "id": "_55-i1qT676l",
    "outputId": "114be59e-90a6-49d4-d957-5efc598462fe"
   },
   "outputs": [
    {
     "name": "stdout",
     "output_type": "stream",
     "text": [
      "merhaba\n",
      "7\n",
      "merhaba 7\n",
      "merhaba7\n"
     ]
    }
   ],
   "source": [
    "merhaba = 'merhaba' # tek tırnak da kullanılabilir\n",
    "dunya = \"dünya\" # çift tırnak da\n",
    "\n",
    "print(merhaba) # \"merhaba\" yazdırır\n",
    "print(len(merhaba)) # \"merhaba\" da kaç karakter olduğunu yazdırır\n",
    "print (merhaba, len(merhaba)) # ikisi birlikte\n",
    "# print (merhaba + len(merhaba)) # HATA VERECEK!\n",
    "print (merhaba + str(len(merhaba))) # sayıyı str() fonksiyonu ile string'e çevirelim"
   ]
  },
  {
   "cell_type": "code",
   "execution_count": 13,
   "metadata": {
    "colab": {},
    "colab_type": "code",
    "id": "zNR4Eoeq6761",
    "outputId": "a90fc6de-e49e-470a-fdd6-2dccafaaefab"
   },
   "outputs": [
    {
     "name": "stdout",
     "output_type": "stream",
     "text": [
      "merhaba 7\n"
     ]
    }
   ],
   "source": [
    "m7 = '%s %d' % (merhaba, len(merhaba))  # önce veri tipi sonra değişkenler tanımlanabilir\n",
    "print (m7)  # ekrana \"merhaba 7\" yazdırır"
   ]
  },
  {
   "cell_type": "code",
   "execution_count": 14,
   "metadata": {
    "colab": {},
    "colab_type": "code",
    "id": "LxKA1i9B676p",
    "outputId": "21e92dbb-a897-45d7-c1de-f7c1979b5602"
   },
   "outputs": [
    {
     "name": "stdout",
     "output_type": "stream",
     "text": [
      "merhaba yapay zeka\n"
     ]
    }
   ],
   "source": [
    "myz = \"merhaba\" + ' ' + \"yapay\" + ' ' + 'zeka'  # string birleştirme\n",
    "print (myz)  # ekrana \"merhaba yapay zeka\" yazdırır"
   ]
  },
  {
   "cell_type": "code",
   "execution_count": 15,
   "metadata": {
    "colab": {
     "base_uri": "https://localhost:8080/",
     "height": 119
    },
    "colab_type": "code",
    "id": "uolhdhxK677J",
    "outputId": "faaa5a19-1913-428f-a30b-d5d7c4da2798"
   },
   "outputs": [
    {
     "name": "stdout",
     "output_type": "stream",
     "text": [
      "Yapay zeka\n",
      "YAPAY ZEKA\n",
      "     yapay zeka\n",
      "   yapay zeka  \n",
      "yapay zekalar\n",
      "yapay zeka önemlidir :)\n"
     ]
    }
   ],
   "source": [
    "kelime = \"yapay zeka\"\n",
    "print (kelime.capitalize())  # İlk harf büyük \"Yapay zeka\"\n",
    "print (kelime.upper())       # Hepsi büyük \"YAPAY ZEKA\"\n",
    "print (kelime.rjust(15))     # Sağa yasla\n",
    "print (kelime.center(15))    # Merkeze ortala\n",
    "print (kelime.replace('zeka', 'zekalar'))  # \"zeka\"ları \"zekalar\" ile değiştirelim\n",
    "print ('        yapay zeka önemlidir :) '.strip())  # boşlukları silmek için strip() kullanılır"
   ]
  },
  {
   "cell_type": "markdown",
   "metadata": {
    "colab_type": "text",
    "id": "LlV-c6Eg677S"
   },
   "source": [
    "String'lerle ilgili daha fazla bilgi için [dokümanına](https://docs.python.org/3/library/string.html) bakabilirsiniz."
   ]
  },
  {
   "cell_type": "markdown",
   "metadata": {
    "colab_type": "text",
    "id": "DuAK2VqV677V"
   },
   "source": [
    "#### Listeler"
   ]
  },
  {
   "cell_type": "markdown",
   "metadata": {
    "colab_type": "text",
    "id": "LEX0Q940677W"
   },
   "source": [
    "Python'da yer alan listeler yeniden boyutlandırılabilir ve farklı tipte veri tiplerini saklayabilir.\n",
    "\n",
    "**İPUCU**: Listelerin ilk elemanlarının indisi 1 değil 0'dır. Yani `liste[1]` listenin ikinci elemanını belirtmektedir. Listenin en son elemanının indisi ise **-1**'dir "
   ]
  },
  {
   "cell_type": "code",
   "execution_count": 16,
   "metadata": {
    "colab": {},
    "colab_type": "code",
    "id": "LwjhSVUv677Z",
    "outputId": "c4c04727-2787-44bd-bd94-15e3e53600ca"
   },
   "outputs": [
    {
     "name": "stdout",
     "output_type": "stream",
     "text": [
      "[3, 1, 2, 3]\n",
      "3\n",
      "1\n",
      "3\n",
      "1\n"
     ]
    }
   ],
   "source": [
    "listemiz = [3, 1, 2, 3] # Liste oluşturma\n",
    "\n",
    "print (listemiz) # Listenin tamamını ekrana yazdıralım\n",
    "\n",
    "print (listemiz[0]) #Listenin ilk elemanını yazdıralım\n",
    "print (listemiz[1]) #Listenin ikinci elemanını yazdıralım\n",
    "\n",
    "print (listemiz[-1]) #Listenin son elemanının yazdıralım\n",
    "print (listemiz[-3]) #Listenin sondan iki önceki elemanının yazdıralım"
   ]
  },
  {
   "cell_type": "code",
   "execution_count": 17,
   "metadata": {
    "colab": {},
    "colab_type": "code",
    "id": "GZ0e_bgn677d",
    "outputId": "38e061c4-68bc-4c2b-b498-177998243f15"
   },
   "outputs": [
    {
     "name": "stdout",
     "output_type": "stream",
     "text": [
      "[3, 1, 'yapay', 3]\n"
     ]
    }
   ],
   "source": [
    "listemiz[2] = 'yapay' # Listelerde farklı veri tipleri tutulabilir\n",
    "\n",
    "print (listemiz)"
   ]
  },
  {
   "cell_type": "markdown",
   "metadata": {},
   "source": [
    "`.append()` ile listenin sonuna ekleme yapabiliriz."
   ]
  },
  {
   "cell_type": "code",
   "execution_count": 18,
   "metadata": {
    "colab": {},
    "colab_type": "code",
    "id": "PqQ1-vCT677h",
    "outputId": "db8565b4-9dd2-4d8d-90b4-ec64e132bdab"
   },
   "outputs": [
    {
     "name": "stdout",
     "output_type": "stream",
     "text": [
      "[3, 1, 'yapay', 3, 'zeka']\n"
     ]
    }
   ],
   "source": [
    "listemiz.append('zeka') # Listenin en sonuna `append` ile veri eklenebilir\n",
    "\n",
    "print (listemiz)  "
   ]
  },
  {
   "cell_type": "markdown",
   "metadata": {},
   "source": [
    "`.pop()` ile listenin son elemanını atabiliriz."
   ]
  },
  {
   "cell_type": "code",
   "execution_count": 19,
   "metadata": {
    "colab": {},
    "colab_type": "code",
    "id": "oVOWz4mo677k",
    "outputId": "8886fd8c-4f87-4733-f07f-76f633a4de45"
   },
   "outputs": [
    {
     "name": "stdout",
     "output_type": "stream",
     "text": [
      "zeka\n",
      "[3, 1, 'yapay', 3]\n"
     ]
    }
   ],
   "source": [
    "son_eleman = listemiz.pop() # Listenin son elemanını at ve atılan elamenı ekrana yazdır\n",
    "\n",
    "print(son_eleman)\n",
    "print(listemiz)"
   ]
  },
  {
   "cell_type": "markdown",
   "metadata": {},
   "source": [
    "`.index()` ile kontrol edilen elemanın listedeki indisini görebiliriz."
   ]
  },
  {
   "cell_type": "code",
   "execution_count": 20,
   "metadata": {},
   "outputs": [
    {
     "data": {
      "text/plain": [
       "2"
      ]
     },
     "execution_count": 20,
     "metadata": {},
     "output_type": "execute_result"
    }
   ],
   "source": [
    "listemiz.index('yapay')"
   ]
  },
  {
   "cell_type": "markdown",
   "metadata": {},
   "source": [
    "`.count()` ile kontrol edilen elemandan listede kaç tane olduğunu görebiliriz."
   ]
  },
  {
   "cell_type": "code",
   "execution_count": 21,
   "metadata": {},
   "outputs": [
    {
     "data": {
      "text/plain": [
       "2"
      ]
     },
     "execution_count": 21,
     "metadata": {},
     "output_type": "execute_result"
    }
   ],
   "source": [
    "listemiz.count(3)"
   ]
  },
  {
   "cell_type": "markdown",
   "metadata": {},
   "source": [
    "`.remove()` ile istediğimiz bir elemanı listeden silebiliriz."
   ]
  },
  {
   "cell_type": "code",
   "execution_count": 22,
   "metadata": {},
   "outputs": [
    {
     "name": "stdout",
     "output_type": "stream",
     "text": [
      "[3, 1, 3]\n"
     ]
    }
   ],
   "source": [
    "listemiz.remove('yapay')\n",
    "print(listemiz)"
   ]
  },
  {
   "cell_type": "markdown",
   "metadata": {},
   "source": [
    "`.sort()` ile listeyi sıralayabiliriz."
   ]
  },
  {
   "cell_type": "code",
   "execution_count": 23,
   "metadata": {},
   "outputs": [
    {
     "data": {
      "text/plain": [
       "[1, 3, 3]"
      ]
     },
     "execution_count": 23,
     "metadata": {},
     "output_type": "execute_result"
    }
   ],
   "source": [
    "listemiz.sort()\n",
    "listemiz"
   ]
  },
  {
   "cell_type": "markdown",
   "metadata": {},
   "source": [
    "`.reverse()` ile listeyi tersine çevirebiliriz."
   ]
  },
  {
   "cell_type": "code",
   "execution_count": 24,
   "metadata": {},
   "outputs": [
    {
     "data": {
      "text/plain": [
       "[3, 3, 1]"
      ]
     },
     "execution_count": 24,
     "metadata": {},
     "output_type": "execute_result"
    }
   ],
   "source": [
    "listemiz.reverse()\n",
    "listemiz"
   ]
  },
  {
   "cell_type": "markdown",
   "metadata": {},
   "source": [
    "`.extend()` ile listenin sonuna başka bir bir listeyi ekleyebiliriz."
   ]
  },
  {
   "cell_type": "code",
   "execution_count": 25,
   "metadata": {},
   "outputs": [
    {
     "data": {
      "text/plain": [
       "[3, 3, 1, 1, 11, 111, 1111]"
      ]
     },
     "execution_count": 25,
     "metadata": {},
     "output_type": "execute_result"
    }
   ],
   "source": [
    "ek_liste = [1, 11, 111, 1111]\n",
    "listemiz.extend(ek_liste)\n",
    "listemiz"
   ]
  },
  {
   "cell_type": "markdown",
   "metadata": {},
   "source": [
    "`.copy()` ile listemizi başka bir listeye kopyalayabiliriz."
   ]
  },
  {
   "cell_type": "code",
   "execution_count": 26,
   "metadata": {},
   "outputs": [
    {
     "data": {
      "text/plain": [
       "[3, 3, 1, 1, 11, 111, 1111]"
      ]
     },
     "execution_count": 26,
     "metadata": {},
     "output_type": "execute_result"
    }
   ],
   "source": [
    "yeni_liste = listemiz.copy()\n",
    "yeni_liste"
   ]
  },
  {
   "cell_type": "markdown",
   "metadata": {},
   "source": [
    "`.insert()` ile listemizin istediğimiz bir indisine eleman ekleyebiliriz."
   ]
  },
  {
   "cell_type": "code",
   "execution_count": 27,
   "metadata": {},
   "outputs": [
    {
     "data": {
      "text/plain": [
       "[3, 3, 1, 1, 11, 555, 111, 1111]"
      ]
     },
     "execution_count": 27,
     "metadata": {},
     "output_type": "execute_result"
    }
   ],
   "source": [
    "yeni_liste.insert(5,555) # 5. indise 555 ekle\n",
    "yeni_liste"
   ]
  },
  {
   "cell_type": "markdown",
   "metadata": {},
   "source": [
    "`.clear()` ile listemizin içini boşaltabiliriz."
   ]
  },
  {
   "cell_type": "code",
   "execution_count": 28,
   "metadata": {},
   "outputs": [
    {
     "data": {
      "text/plain": [
       "[]"
      ]
     },
     "execution_count": 28,
     "metadata": {},
     "output_type": "execute_result"
    }
   ],
   "source": [
    "yeni_liste.clear()\n",
    "yeni_liste"
   ]
  },
  {
   "cell_type": "markdown",
   "metadata": {
    "colab_type": "text",
    "id": "mGpcOZPC677p"
   },
   "source": [
    "#### Dilimleme (Slicing)"
   ]
  },
  {
   "cell_type": "markdown",
   "metadata": {
    "colab_type": "text",
    "id": "S9tH5dNh677p"
   },
   "source": [
    "Liste elemamanlarına dilimleme yöntemi ile de ulaşabiliriz."
   ]
  },
  {
   "cell_type": "code",
   "execution_count": 29,
   "metadata": {
    "colab": {},
    "colab_type": "code",
    "id": "Uzj9L69y677q",
    "outputId": "d8de70bc-fc9d-4d6e-9188-d97ca5147166"
   },
   "outputs": [
    {
     "name": "stdout",
     "output_type": "stream",
     "text": [
      "[0, 1, 2, 3, 4]\n",
      "[2, 3]\n",
      "[2, 3, 4]\n",
      "[0, 1]\n",
      "[0, 1, 2, 3, 4]\n",
      "[0, 1, 2, 3]\n",
      "[0, 1, 8, 9, 4]\n"
     ]
    }
   ],
   "source": [
    "sayilar = list(range(5)) # Python'da ön-tanımlı 'range' fonksiyonu ile 0'dan 5'e kadar (5 hariç) tam sayı listesi oluşturalım\n",
    "print (sayilar)          # Listenin tamamını yazdıralım = \"[0, 1, 2, 3, 4]\" \n",
    "print (sayilar[2:4])     # Listenin 2. indisinden 4. indisine kadar olan dilimini yazdıralım = \"[2, 3]\"\n",
    "print (sayilar[2:])      # Listenin 2. indisinden en sona kadar olan dilimini yazdıralım = \"[2, 3, 4]\"\n",
    "print (sayilar[:2])      # Listenin en baştan 2. indise kadar olan dilimini yazdıralım =  \"[0, 1]\"\n",
    "print (sayilar[:])       # Listenin tamanını dilim olarak yazdıralım = [\"0, 1, 2, 3, 4]\"\n",
    "\n",
    "\n",
    "# Liste indisleri negatif olabilir. -1 listenin son elemanını verdiğinden, \n",
    "# en baştan listenin son elemanına kadar olan dilimi yazdıralım: \n",
    "print (sayilar[:-1])     \n",
    "\n",
    "sayilar[2:4] = [8, 9]    # Dilime yeni bir alt liste atayalım\n",
    "print (sayilar)          # Listenin yeni hali = \"[0, 1, 8, 9, 4]\""
   ]
  },
  {
   "cell_type": "markdown",
   "metadata": {
    "colab_type": "text",
    "id": "e7kQtwzD677t"
   },
   "source": [
    "#### Döngüler"
   ]
  },
  {
   "cell_type": "markdown",
   "metadata": {
    "colab_type": "text",
    "id": "rh9ae6_6677u"
   },
   "source": [
    "Liste elemanlarına döngü yardımıyla şu şekilde ulaşılabilir:"
   ]
  },
  {
   "cell_type": "code",
   "execution_count": 30,
   "metadata": {
    "colab": {},
    "colab_type": "code",
    "id": "AK_BEniw677u",
    "outputId": "9841dbb2-fd88-4934-bdb7-5170ef109a2b"
   },
   "outputs": [
    {
     "name": "stdout",
     "output_type": "stream",
     "text": [
      "istanbul\n",
      "ankara\n",
      "izmir\n",
      "malatya\n"
     ]
    }
   ],
   "source": [
    "iller = ['istanbul', 'ankara', 'izmir', 'malatya']\n",
    "\n",
    "for il in iller:\n",
    "    print (il)"
   ]
  },
  {
   "cell_type": "markdown",
   "metadata": {
    "colab_type": "text",
    "id": "gvLSrDBH677y"
   },
   "source": [
    "Döngü içerisinde her bir liste elemanının indeks değerine ulaşmak için `enumerate` fonksiyonunu kullanabilirsiniz."
   ]
  },
  {
   "cell_type": "code",
   "execution_count": 31,
   "metadata": {
    "colab": {},
    "colab_type": "code",
    "id": "8RBEpUQ9677y",
    "outputId": "7ef9b439-8a6d-4548-9436-570cbf6e97d7"
   },
   "outputs": [
    {
     "name": "stdout",
     "output_type": "stream",
     "text": [
      "1: İstanbul\n",
      "2: Ankara\n",
      "3: İzmir\n",
      "4: Malatya\n"
     ]
    }
   ],
   "source": [
    "iller = ['İstanbul', 'Ankara', 'İzmir', 'Malatya']\n",
    "\n",
    "for sira, iller in enumerate(iller):\n",
    "    print ('%d: %s' % (sira + 1, iller))"
   ]
  },
  {
   "cell_type": "markdown",
   "metadata": {},
   "source": [
    "`range()` fonksiyonu ile belirli bir aralık tanımlayabiliriz."
   ]
  },
  {
   "cell_type": "code",
   "execution_count": 32,
   "metadata": {},
   "outputs": [
    {
     "name": "stdout",
     "output_type": "stream",
     "text": [
      "1\n",
      "2\n",
      "3\n",
      "4\n",
      "5\n",
      "6\n",
      "7\n",
      "8\n",
      "9\n",
      "10\n"
     ]
    }
   ],
   "source": [
    "for sayi in range(1,11):\n",
    "    print (sayi)"
   ]
  },
  {
   "cell_type": "code",
   "execution_count": 33,
   "metadata": {},
   "outputs": [
    {
     "name": "stdout",
     "output_type": "stream",
     "text": [
      "Y\n",
      "a\n",
      "p\n",
      "a\n",
      "y\n",
      " \n",
      "Z\n",
      "e\n",
      "k\n",
      "a\n"
     ]
    }
   ],
   "source": [
    "for harf in 'Yapay Zeka':\n",
    "    print(harf)"
   ]
  },
  {
   "cell_type": "code",
   "execution_count": 34,
   "metadata": {},
   "outputs": [
    {
     "name": "stdout",
     "output_type": "stream",
     "text": [
      "Yapay\n",
      "Zeka\n"
     ]
    }
   ],
   "source": [
    "for kelime in \"Yapay Zeka\".split():\n",
    "    print(kelime)"
   ]
  },
  {
   "cell_type": "markdown",
   "metadata": {
    "colab_type": "text",
    "id": "UtYuRtNI6772"
   },
   "source": [
    "#### Listeler Arası Dönüşüm\n",
    "\n",
    "Liste elemanlarının tamamı üzerinde işlemler yapabiliriz."
   ]
  },
  {
   "cell_type": "markdown",
   "metadata": {},
   "source": [
    "#### Listenin Karesini Alma"
   ]
  },
  {
   "cell_type": "code",
   "execution_count": 35,
   "metadata": {
    "colab": {},
    "colab_type": "code",
    "id": "1q8uHGAM6773",
    "outputId": "01371474-7005-4d43-a5ba-7b899ff1e32b"
   },
   "outputs": [
    {
     "name": "stdout",
     "output_type": "stream",
     "text": [
      "[0, 1, 4, 9, 16, 25, 36, 49]\n"
     ]
    }
   ],
   "source": [
    "rakamlar = [0, 1, 2, 3, 4, 5, 6, 7]\n",
    "kareler = []\n",
    "\n",
    "for rakam in rakamlar:\n",
    "    kareler.append(rakam ** 2) # append ile sona ekleme yapıyoruz.\n",
    "\n",
    "print (kareler)"
   ]
  },
  {
   "cell_type": "markdown",
   "metadata": {
    "colab_type": "text",
    "id": "x-dS_UuH6779"
   },
   "source": [
    "Bu işlemi şu şekilde de kolaylıkla yapabiliriz."
   ]
  },
  {
   "cell_type": "code",
   "execution_count": 36,
   "metadata": {
    "colab": {},
    "colab_type": "code",
    "id": "nPBWO8YS678D",
    "outputId": "973cb8b7-1a9d-42ff-ce8b-92dbe4cd9cbb"
   },
   "outputs": [
    {
     "name": "stdout",
     "output_type": "stream",
     "text": [
      "[0, 1, 4, 9, 16, 25, 36, 49]\n"
     ]
    }
   ],
   "source": [
    "rakamlar = [0, 1, 2, 3, 4, 5, 6, 7]\n",
    "kareler = [rakam ** 2 \n",
    "           for rakam in rakamlar]\n",
    "\n",
    "print (kareler)"
   ]
  },
  {
   "cell_type": "markdown",
   "metadata": {
    "colab_type": "text",
    "id": "wzcqae6s678H"
   },
   "source": [
    "Listeler arası dönüşüm yaparken koşul da ekleyebiliriz."
   ]
  },
  {
   "cell_type": "code",
   "execution_count": 37,
   "metadata": {
    "colab": {},
    "colab_type": "code",
    "id": "HEef47F7678H",
    "outputId": "06dc9ab3-0485-4aa9-d946-aca421dedce1"
   },
   "outputs": [
    {
     "name": "stdout",
     "output_type": "stream",
     "text": [
      "[0, 4, 16, 36]\n",
      "[1, 9, 25, 49]\n"
     ]
    }
   ],
   "source": [
    "rakamlar = [0, 1, 2, 3, 4, 5, 6, 7]\n",
    "\n",
    "cift_kareler = [rakam ** 2 \n",
    "                for rakam in rakamlar \n",
    "                if rakam % 2 == 0]\n",
    "tek_kareler = [rakam ** 2 \n",
    "               for rakam in rakamlar \n",
    "               if rakam % 2 == 1]\n",
    "\n",
    "print (cift_kareler)\n",
    "print (tek_kareler)"
   ]
  },
  {
   "cell_type": "markdown",
   "metadata": {},
   "source": [
    "#### Listenin Elemanlarını Toplama"
   ]
  },
  {
   "cell_type": "code",
   "execution_count": 38,
   "metadata": {},
   "outputs": [
    {
     "data": {
      "text/plain": [
       "[5, 2, 4, 2, 45, 25]"
      ]
     },
     "execution_count": 38,
     "metadata": {},
     "output_type": "execute_result"
    }
   ],
   "source": [
    "liste = [5,2,4,2,45,25]\n",
    "liste"
   ]
  },
  {
   "cell_type": "markdown",
   "metadata": {},
   "source": [
    "**for döngüsü** ile liste elemanlarında tek tek gezip toplayabiliriz."
   ]
  },
  {
   "cell_type": "code",
   "execution_count": 39,
   "metadata": {},
   "outputs": [
    {
     "name": "stdout",
     "output_type": "stream",
     "text": [
      "83\n"
     ]
    }
   ],
   "source": [
    "toplam = 0 \n",
    "\n",
    "for sayi in liste:\n",
    "    toplam = toplam + sayi\n",
    "\n",
    "print(toplam)"
   ]
  },
  {
   "cell_type": "markdown",
   "metadata": {},
   "source": [
    "`sum()` ile daha kolay bir şekilde listenin elemanlarını toplayabiliriz."
   ]
  },
  {
   "cell_type": "code",
   "execution_count": 40,
   "metadata": {},
   "outputs": [
    {
     "data": {
      "text/plain": [
       "83"
      ]
     },
     "execution_count": 40,
     "metadata": {},
     "output_type": "execute_result"
    }
   ],
   "source": [
    "sum(liste)"
   ]
  },
  {
   "cell_type": "code",
   "execution_count": 41,
   "metadata": {},
   "outputs": [
    {
     "data": {
      "text/plain": [
       "[5, 2, 4, 2, 45, 25]"
      ]
     },
     "execution_count": 41,
     "metadata": {},
     "output_type": "execute_result"
    }
   ],
   "source": [
    "liste"
   ]
  },
  {
   "cell_type": "markdown",
   "metadata": {},
   "source": [
    "Yalnızca belir bir koşulu sağlayan elemanları toplamak istersek **while döngüsü** kullabiliriz. Örneğin listenin **ilk dört elemanını** toplayalım."
   ]
  },
  {
   "cell_type": "code",
   "execution_count": 42,
   "metadata": {},
   "outputs": [
    {
     "name": "stdout",
     "output_type": "stream",
     "text": [
      "13\n"
     ]
    }
   ],
   "source": [
    "toplam = 0\n",
    "i = 0\n",
    "\n",
    "while (i<4):\n",
    "    toplam = toplam + liste[i]\n",
    "    i = i + 1\n",
    "\n",
    "print(toplam)"
   ]
  },
  {
   "cell_type": "markdown",
   "metadata": {},
   "source": [
    "#### Listenin En Büyük Elemanını Bulma"
   ]
  },
  {
   "cell_type": "code",
   "execution_count": 43,
   "metadata": {},
   "outputs": [
    {
     "data": {
      "text/plain": [
       "[5, 2, 4, 2, 45, 25]"
      ]
     },
     "execution_count": 43,
     "metadata": {},
     "output_type": "execute_result"
    }
   ],
   "source": [
    "liste = [5,2,4,2,45,25]\n",
    "liste"
   ]
  },
  {
   "cell_type": "code",
   "execution_count": 44,
   "metadata": {},
   "outputs": [
    {
     "name": "stdout",
     "output_type": "stream",
     "text": [
      "45\n"
     ]
    }
   ],
   "source": [
    "en_buyuk = liste[0]\n",
    "\n",
    "for eleman in liste:\n",
    "    if eleman>en_buyuk:\n",
    "        en_buyuk = eleman\n",
    "\n",
    "print(en_buyuk)"
   ]
  },
  {
   "cell_type": "markdown",
   "metadata": {
    "colab_type": "text",
    "id": "LaNwQCYW678K"
   },
   "source": [
    "#### Sözlükler"
   ]
  },
  {
   "cell_type": "markdown",
   "metadata": {
    "colab_type": "text",
    "id": "PfzxddFc678L"
   },
   "source": [
    "Bir Python sözlüğünde anahtar (`key`) ve değer (`value`) saklanmaktadır."
   ]
  },
  {
   "cell_type": "code",
   "execution_count": 45,
   "metadata": {
    "colab": {},
    "colab_type": "code",
    "id": "6XXH3Mcb678L",
    "outputId": "4036f6bf-28a2-48fc-a606-0b5d4a1c450a"
   },
   "outputs": [],
   "source": [
    "meshur = {'Kayseri': 'Mantı', 'Amasya': 'Elma', 'Malatya': 'Kayısı'}  # Sözlük oluşturalım"
   ]
  },
  {
   "cell_type": "markdown",
   "metadata": {},
   "source": [
    "`.keys()` ile sözlüğümüzün anahtarlarını yazdırabiliriz."
   ]
  },
  {
   "cell_type": "code",
   "execution_count": 46,
   "metadata": {},
   "outputs": [
    {
     "data": {
      "text/plain": [
       "dict_keys(['Kayseri', 'Malatya', 'Amasya'])"
      ]
     },
     "execution_count": 46,
     "metadata": {},
     "output_type": "execute_result"
    }
   ],
   "source": [
    "meshur.keys()"
   ]
  },
  {
   "cell_type": "markdown",
   "metadata": {},
   "source": [
    "`.values()` ile sözlüğümüzün değerlerini yazdırabiliriz."
   ]
  },
  {
   "cell_type": "code",
   "execution_count": 47,
   "metadata": {},
   "outputs": [
    {
     "data": {
      "text/plain": [
       "dict_values(['Mantı', 'Kayısı', 'Elma'])"
      ]
     },
     "execution_count": 47,
     "metadata": {},
     "output_type": "execute_result"
    }
   ],
   "source": [
    "meshur.values()"
   ]
  },
  {
   "cell_type": "markdown",
   "metadata": {},
   "source": [
    "`.items()` ile sözlüğümüzün **tüm** `key` ve `value` değerlerini yazdırabiliriz."
   ]
  },
  {
   "cell_type": "code",
   "execution_count": 48,
   "metadata": {},
   "outputs": [
    {
     "data": {
      "text/plain": [
       "dict_items([('Kayseri', 'Mantı'), ('Malatya', 'Kayısı'), ('Amasya', 'Elma')])"
      ]
     },
     "execution_count": 48,
     "metadata": {},
     "output_type": "execute_result"
    }
   ],
   "source": [
    "meshur.items()"
   ]
  },
  {
   "cell_type": "code",
   "execution_count": 49,
   "metadata": {},
   "outputs": [
    {
     "name": "stdout",
     "output_type": "stream",
     "text": [
      "Kayısı\n",
      "True\n"
     ]
    }
   ],
   "source": [
    "print (meshur['Malatya']) # \"Malatya\" anahtar değerine ait değer ekrana yazdırılır.\n",
    "print ('Amasya' in meshur) # \"Amasya\" anahtar değeri sözlüğümüzde varsa \"True\" döndürür. "
   ]
  },
  {
   "cell_type": "code",
   "execution_count": 50,
   "metadata": {
    "colab": {},
    "colab_type": "code",
    "id": "w2_b3pJC678P",
    "outputId": "7bc78c5c-4fa4-4baa-b4ba-fe0c2f677880"
   },
   "outputs": [
    {
     "data": {
      "text/plain": [
       "{'Amasya': 'Elma',\n",
       " 'Kayseri': 'Mantı',\n",
       " 'Malatya': 'Kayısı',\n",
       " 'İstanbul': 'Trafik'}"
      ]
     },
     "execution_count": 50,
     "metadata": {},
     "output_type": "execute_result"
    }
   ],
   "source": [
    "meshur['İstanbul'] = 'Trafik' # Sözlüğe yeni bir girdi ekleyelim.\n",
    "meshur"
   ]
  },
  {
   "cell_type": "code",
   "execution_count": 51,
   "metadata": {
    "colab": {},
    "colab_type": "code",
    "id": "XU5bDAtA678S",
    "outputId": "61646e46-b7ab-44e1-ea86-a6743685f994"
   },
   "outputs": [],
   "source": [
    "#print (meshur['Ankara'])  # KeyError: 'Ankara' not a key of d\n",
    "\n",
    "# Ankara diye bir anahtar değerimiz olmadığı için hata verir!"
   ]
  },
  {
   "cell_type": "markdown",
   "metadata": {},
   "source": [
    "Sözlüğün içinde bir değer varsa onu getirmesini, yoksa N/A versin istiyorsak `get` yöntemini kullanabiliriz."
   ]
  },
  {
   "cell_type": "code",
   "execution_count": 52,
   "metadata": {
    "colab": {},
    "colab_type": "code",
    "id": "X5ldIT_o678V",
    "outputId": "1df70db4-1a9f-4752-f680-c369713dc549"
   },
   "outputs": [
    {
     "name": "stdout",
     "output_type": "stream",
     "text": [
      "N/A\n",
      "Elma\n"
     ]
    }
   ],
   "source": [
    "print (meshur.get('Ankara', 'N/A')) # \"N/A\" döndürür\n",
    "print (meshur.get('Amasya', 'N/A')) # \"Elma\" döndürür"
   ]
  },
  {
   "cell_type": "code",
   "execution_count": 53,
   "metadata": {
    "colab": {},
    "colab_type": "code",
    "id": "w6ZEz1mo678a",
    "outputId": "efc1be22-e5a6-4b43-8dfd-59c00db7f231"
   },
   "outputs": [
    {
     "name": "stdout",
     "output_type": "stream",
     "text": [
      "N/A\n"
     ]
    }
   ],
   "source": [
    "del meshur['Amasya']        # Sözlükten bir değeri silelim.\n",
    "print (meshur.get('Amasya', 'N/A')) # \"Amasya\" silindiği için \"N/A\" döndürür."
   ]
  },
  {
   "cell_type": "code",
   "execution_count": 54,
   "metadata": {},
   "outputs": [
    {
     "data": {
      "text/plain": [
       "{'Kayseri': 'Mantı', 'Malatya': 'Kayısı', 'İstanbul': 'Trafik'}"
      ]
     },
     "execution_count": 54,
     "metadata": {},
     "output_type": "execute_result"
    }
   ],
   "source": [
    "meshur"
   ]
  },
  {
   "cell_type": "markdown",
   "metadata": {
    "colab_type": "text",
    "id": "wHauFaOD678c"
   },
   "source": [
    "Sözlüklerle ilgili daha fazla bilgi için [dokümana](https://docs.python.org/3/tutorial/datastructures.html#dictionaries) bakabilirsiniz."
   ]
  },
  {
   "cell_type": "markdown",
   "metadata": {
    "colab_type": "text",
    "id": "JELVcmGP678d"
   },
   "source": [
    "Sözlük üzerinde `for` döngüsü ile gezinmek mümkündür. "
   ]
  },
  {
   "cell_type": "code",
   "execution_count": 55,
   "metadata": {
    "colab": {},
    "colab_type": "code",
    "id": "C9ruJOys678d",
    "outputId": "228f685b-1418-483c-e23a-9b8ee4d10b96"
   },
   "outputs": [
    {
     "name": "stdout",
     "output_type": "stream",
     "text": [
      "Kedi, 4 ayağa sahiptir.\n",
      "İnsan, 2 ayağa sahiptir.\n",
      "Örümcek, 8 ayağa sahiptir.\n"
     ]
    }
   ],
   "source": [
    "canlilar = {'İnsan': 2, 'Kedi': 4, 'Örümcek': 8}\n",
    "\n",
    "for canli in canlilar:\n",
    "    ayak = canlilar[canli]\n",
    "    print('%s, %d ayağa sahiptir.' % (canli, ayak))"
   ]
  },
  {
   "cell_type": "markdown",
   "metadata": {
    "colab_type": "text",
    "id": "lIzRQoUo678g"
   },
   "source": [
    "Sözlük değerlerine `items()` yöntemiyle de ulaşabiliriz."
   ]
  },
  {
   "cell_type": "code",
   "execution_count": 56,
   "metadata": {
    "colab": {},
    "colab_type": "code",
    "id": "MJkUk7o4678h",
    "outputId": "271fc7eb-7a3b-4adb-e420-30dc640f7be3"
   },
   "outputs": [
    {
     "name": "stdout",
     "output_type": "stream",
     "text": [
      "Kedi, 4 ayağa sahiptir.\n",
      "İnsan, 2 ayağa sahiptir.\n",
      "Örümcek, 8 ayağa sahiptir.\n"
     ]
    }
   ],
   "source": [
    "canlilar = {'İnsan': 2, 'Kedi': 4, 'Örümcek': 8}\n",
    "\n",
    "for canli, ayak in canlilar.items():\n",
    "    print ('%s, %d ayağa sahiptir.' % (canli, ayak))"
   ]
  },
  {
   "cell_type": "markdown",
   "metadata": {},
   "source": [
    "Aynı şekilde `keys()` ya da `values()` değerlerine de bir `for döngüsü` ile ulaşabiliriz."
   ]
  },
  {
   "cell_type": "code",
   "execution_count": 57,
   "metadata": {},
   "outputs": [
    {
     "name": "stdout",
     "output_type": "stream",
     "text": [
      "Kedi\n",
      "İnsan\n",
      "Örümcek\n"
     ]
    }
   ],
   "source": [
    "for canli in canlilar.keys():\n",
    "    print (canli)"
   ]
  },
  {
   "cell_type": "code",
   "execution_count": 58,
   "metadata": {},
   "outputs": [
    {
     "name": "stdout",
     "output_type": "stream",
     "text": [
      "4\n",
      "2\n",
      "8\n"
     ]
    }
   ],
   "source": [
    "for ayak in canlilar.values():\n",
    "    print (ayak)"
   ]
  },
  {
   "cell_type": "markdown",
   "metadata": {
    "colab_type": "text",
    "id": "gZqZiFNe678m"
   },
   "source": [
    "#### Sözlük Dönüşümü\n",
    "\n",
    "Listelerden sözlük oluşturabiliriz."
   ]
  },
  {
   "cell_type": "code",
   "execution_count": 59,
   "metadata": {
    "colab": {},
    "colab_type": "code",
    "id": "l0SQvsLT678m",
    "outputId": "7e0f5b8c-ea1e-4a3e-ac16-16d019240484"
   },
   "outputs": [
    {
     "name": "stdout",
     "output_type": "stream",
     "text": [
      "{0: 0, 8: 64, 2: 4, 4: 16, 6: 36}\n"
     ]
    }
   ],
   "source": [
    "sayilar = [0, 1, 2, 3, 4, 5, 6, 7, 8, 9]\n",
    "cift_kare = {x: x ** 2 for x in sayilar  if x % 2 == 0}\n",
    "print (cift_kare)"
   ]
  },
  {
   "cell_type": "markdown",
   "metadata": {},
   "source": [
    "**İPUCU**: Listelerin köşeli parantez `[]`, sözlüklerin ise süslü parantez `{}` ile tanımlandığını unutmayın."
   ]
  },
  {
   "cell_type": "markdown",
   "metadata": {
    "colab_type": "text",
    "id": "ct0A73Vz678p"
   },
   "source": [
    "#### Kümeler (Sets)"
   ]
  },
  {
   "cell_type": "markdown",
   "metadata": {
    "colab_type": "text",
    "id": "vNZyJBgM678q"
   },
   "source": [
    "Kümeleri de süslü parantez ile tanımlarız. Listelerden en büyük farklı sıralı olmamasıdır. "
   ]
  },
  {
   "cell_type": "code",
   "execution_count": 60,
   "metadata": {
    "colab": {},
    "colab_type": "code",
    "id": "_OP2UEYu678q",
    "outputId": "87b09a0f-ee82-4756-f511-fc1f1fff57b2"
   },
   "outputs": [
    {
     "name": "stdout",
     "output_type": "stream",
     "text": [
      "True\n",
      "False\n"
     ]
    }
   ],
   "source": [
    "hayvanlar = {'kedi', 'köpek'}\n",
    "\n",
    "print ('kedi' in hayvanlar)   # Kümede o elemanın olup olmadığına bakalım = \"True\"\n",
    "print ('balık' in hayvanlar)  # Kümede o elemanın olup olmadığına bakalım = \"False\""
   ]
  },
  {
   "cell_type": "code",
   "execution_count": 61,
   "metadata": {
    "colab": {},
    "colab_type": "code",
    "id": "OzWCwG3J678t",
    "outputId": "b62eb3bb-a504-483c-b726-cab29b829568"
   },
   "outputs": [
    {
     "name": "stdout",
     "output_type": "stream",
     "text": [
      "True\n",
      "3\n"
     ]
    }
   ],
   "source": [
    "hayvanlar.add('balık')       # Kümeye eleman ekleyelim\n",
    "print ('balık' in hayvanlar)\n",
    "\n",
    "print (len(hayvanlar))       # Kümenin eleman sayısını ekrana yazdıralım"
   ]
  },
  {
   "cell_type": "code",
   "execution_count": 62,
   "metadata": {
    "colab": {},
    "colab_type": "code",
    "id": "frKetwK4678w",
    "outputId": "21642aa5-f82e-4387-f665-d5f0fb0d4af2"
   },
   "outputs": [
    {
     "name": "stdout",
     "output_type": "stream",
     "text": [
      "3\n",
      "2\n"
     ]
    }
   ],
   "source": [
    "hayvanlar.add('kedi')       # Kedi zaten olduğu için değişen bir şey olmayacak\n",
    "print (len(hayvanlar))       \n",
    "hayvanlar.remove('kedi')    # Kümeden bir elemanı kaldıralım.\n",
    "print (len(hayvanlar))       "
   ]
  },
  {
   "cell_type": "markdown",
   "metadata": {
    "colab_type": "text",
    "id": "WheWc5ey678z"
   },
   "source": [
    "_Döngüler_: Küme elemanlarına da `for` döngüsü ile ulaşabiliriz. Fakat kümelerin sıralı listeler olmadığını unutmayın. Örneğin aşağıda _kedi köpek balık_ sırasıyla tanımladığımız kümenin elemanlarına ulaşmaya çalıştığımızda hangi sıra olacak sizce? "
   ]
  },
  {
   "cell_type": "code",
   "execution_count": 63,
   "metadata": {
    "colab": {},
    "colab_type": "code",
    "id": "3xfvgtNA6780",
    "outputId": "98069d69-4e86-401d-9557-70fe90e0eca7"
   },
   "outputs": [
    {
     "name": "stdout",
     "output_type": "stream",
     "text": [
      "#1: köpek\n",
      "#2: kedi\n",
      "#3: balık\n"
     ]
    }
   ],
   "source": [
    "hayvanlar = {'kedi', 'köpek', 'balık'}\n",
    "\n",
    "for sira, hayvan in enumerate(hayvanlar):\n",
    "    print ('#%d: %s' % (sira + 1, hayvan))    "
   ]
  },
  {
   "cell_type": "markdown",
   "metadata": {
    "colab_type": "text",
    "id": "E4KVAgQr6783"
   },
   "source": [
    "Liste ve sözlük dönüşümlerine benzer bir şekilde hızlıca küme oluşturabiliriz."
   ]
  },
  {
   "cell_type": "code",
   "execution_count": 64,
   "metadata": {
    "colab": {},
    "colab_type": "code",
    "id": "cP9_9bK46783",
    "outputId": "c27f4bf1-d67e-4f05-db26-1bab567e9974"
   },
   "outputs": [
    {
     "name": "stdout",
     "output_type": "stream",
     "text": [
      "{0.0, 1.0, 2.0, 2.23606797749979, 1.7320508075688772, 1.4142135623730951, 2.449489742783178, 2.6457513110645907, 2.8284271247461903, 3.0, 3.1622776601683795, 3.3166247903554, 3.4641016151377544, 4.0, 5.0, 4.47213595499958, 4.795831523312719, 4.898979485566356, 5.0990195135927845, 5.196152422706632, 5.291502622129181, 3.7416573867739413, 3.872983346207417, 4.123105625617661, 4.242640687119285, 4.358898943540674, 4.58257569495584, 4.69041575982343, 5.385164807134504, 3.605551275463989}\n"
     ]
    }
   ],
   "source": [
    "from math import sqrt\n",
    "\n",
    "print ({sqrt(x) for x in list(range(30))})"
   ]
  },
  {
   "cell_type": "markdown",
   "metadata": {},
   "source": [
    "**İPUCU**: Kümeler sıralı listeler olmadığı için köklü değerleri sıralı olarak göremeyeceksiniz."
   ]
  },
  {
   "cell_type": "markdown",
   "metadata": {
    "colab_type": "text",
    "id": "SzvCeQ3P6786"
   },
   "source": [
    "#### Demetler (Tuples)"
   ]
  },
  {
   "cell_type": "markdown",
   "metadata": {
    "colab_type": "text",
    "id": "p-skzG_96786"
   },
   "source": [
    "Demetler sabit (değişmez) sıralı değerlerden oluşan listelerdir. Demetlerin listelerden en büyük farkı, listeler sözlüklerde anahtar (key) olarak ya da kümelerin elemanı olarak kullanılabilmektedir. Demetler bu şekilde kullanılamazlar.\n",
    "\n",
    "**İPUCU**: Demetler normal parantez `()`ile tanımlanır."
   ]
  },
  {
   "cell_type": "code",
   "execution_count": 65,
   "metadata": {
    "colab": {},
    "colab_type": "code",
    "id": "wG4JWdaF6787",
    "outputId": "f5ef9189-905c-460f-bc93-6cf2aac7cb8a"
   },
   "outputs": [
    {
     "data": {
      "text/plain": [
       "{(0, 1): 0,\n",
       " (1, 2): 1,\n",
       " (2, 3): 2,\n",
       " (3, 4): 3,\n",
       " (4, 5): 4,\n",
       " (5, 6): 5,\n",
       " (6, 7): 6,\n",
       " (7, 8): 7,\n",
       " (8, 9): 8,\n",
       " (9, 10): 9}"
      ]
     },
     "execution_count": 65,
     "metadata": {},
     "output_type": "execute_result"
    }
   ],
   "source": [
    "sozluk = {(x, x + 1): x for x in range(10)}  # Demetlerin anahtar olduğu bir sözlük oluşturalım\n",
    "\n",
    "sozluk"
   ]
  },
  {
   "cell_type": "code",
   "execution_count": 66,
   "metadata": {},
   "outputs": [
    {
     "name": "stdout",
     "output_type": "stream",
     "text": [
      "<class 'tuple'>\n",
      "5\n",
      "1\n"
     ]
    }
   ],
   "source": [
    "demet = (5, 6)       # Demet oluşturalım.\n",
    "print (type(demet))\n",
    "print (sozluk[demet]) # t demeti kaçıncı elemandır?       \n",
    "print (sozluk[(1, 2)]) # (1, 2) demeti kaçıncı elemandır?"
   ]
  },
  {
   "cell_type": "code",
   "execution_count": 67,
   "metadata": {
    "colab": {},
    "colab_type": "code",
    "id": "Men1uVfb679B",
    "outputId": "940f7aa3-7c42-4e9a-9681-890b6b24f852"
   },
   "outputs": [
    {
     "name": "stdout",
     "output_type": "stream",
     "text": [
      "6\n",
      "5\n"
     ]
    }
   ],
   "source": [
    "print(demet[1]) # demetin ikinci elemanına ulaşalım\n",
    "\n",
    "print(demet[0]) # demetin ilk elemanına ulaşalım"
   ]
  },
  {
   "cell_type": "markdown",
   "metadata": {
    "colab_type": "text",
    "id": "zRSvC60r679G"
   },
   "source": [
    "### Fonksiyonlar"
   ]
  },
  {
   "cell_type": "markdown",
   "metadata": {
    "colab_type": "text",
    "id": "4UxE6oEr679H"
   },
   "source": [
    "Python'da fonksiyonlar  `def` anahtar kelimesi ile tanımlanır. \n",
    "\n",
    "Fonksiyon isiminden sonra parantez içerisinde giriş değerleri sonra da *iki nokta üst üste* konulur. \n",
    "\n",
    "Örnek olarak bir sayının pozitif, negatif ya da sıfır olup olmadığını kontrol eden `isaret` fonksiyonunu tanımlayalım:"
   ]
  },
  {
   "cell_type": "code",
   "execution_count": 68,
   "metadata": {
    "colab": {
     "base_uri": "https://localhost:8080/",
     "height": 68
    },
    "colab_type": "code",
    "id": "7VPkd05d679H",
    "outputId": "69c3667d-588b-4849-857c-44991a42696e"
   },
   "outputs": [
    {
     "name": "stdout",
     "output_type": "stream",
     "text": [
      "negatif\n",
      "sifir\n",
      "pozitif\n"
     ]
    }
   ],
   "source": [
    "def isaret(x):\n",
    "    if x > 0:\n",
    "        return 'pozitif'\n",
    "    elif x < 0:\n",
    "        return 'negatif'\n",
    "    else:\n",
    "        return 'sifir'\n",
    "\n",
    "for x in [-1, 0, 1]:\n",
    "    print (isaret(x))"
   ]
  },
  {
   "cell_type": "markdown",
   "metadata": {
    "colab_type": "text",
    "id": "Y7kgWgHD679K"
   },
   "source": [
    "Fonksiyonlarda **isteğe bağlı (opsiyonel)** parametreler tanımlamak mümkündür."
   ]
  },
  {
   "cell_type": "code",
   "execution_count": 69,
   "metadata": {
    "colab": {},
    "colab_type": "code",
    "id": "JCf-kMsw679L",
    "outputId": "dccb14bc-dc7c-4ba1-9b4e-eb92236d8960"
   },
   "outputs": [
    {
     "name": "stdout",
     "output_type": "stream",
     "text": [
      "Merhaba, Fuat!\n",
      "MERHABA, FUAT\n"
     ]
    }
   ],
   "source": [
    "def merhaba(isim, buyukHarf = False):\n",
    "    if buyukHarf:\n",
    "        print ('MERHABA, %s' % isim.upper())\n",
    "    else:\n",
    "        print ('Merhaba, %s!' % isim)\n",
    "\n",
    "merhaba('Fuat')\n",
    "merhaba('Fuat', buyukHarf = True)"
   ]
  },
  {
   "cell_type": "markdown",
   "metadata": {},
   "source": [
    "Eğer fonksiyonunumuzun giriş parametrelerini önceden tanımlamak istemiyorsak `*args` kullanabiliriz. Aşağıdaki fonksiyon kaç tane giriş parametresi girildiyse hepsini çarpmaktadır."
   ]
  },
  {
   "cell_type": "code",
   "execution_count": 70,
   "metadata": {},
   "outputs": [
    {
     "name": "stdout",
     "output_type": "stream",
     "text": [
      "4\n",
      "12\n",
      "110\n",
      "0\n"
     ]
    }
   ],
   "source": [
    "def carp(*args):\n",
    "    sonuc = 1\n",
    "    for sayi in args:\n",
    "        sonuc *= sayi\n",
    "    print(sonuc)\n",
    "\n",
    "carp(4, 1)\n",
    "carp(6, 2)\n",
    "carp(11, 5, 2)\n",
    "carp(9, 3, 0, 4)"
   ]
  },
  {
   "cell_type": "markdown",
   "metadata": {},
   "source": [
    "Fonksiyonumuzu hızlıca tanımlamak istiyorsak `lambda` yı kullanabiliriz."
   ]
  },
  {
   "cell_type": "code",
   "execution_count": 71,
   "metadata": {},
   "outputs": [
    {
     "data": {
      "text/plain": [
       "31.400000000000002"
      ]
     },
     "execution_count": 71,
     "metadata": {},
     "output_type": "execute_result"
    }
   ],
   "source": [
    "# Çemberin Çevresini Bulan Fonksiyon\n",
    "\n",
    "cevre = lambda r, pi : (2 * pi * r)\n",
    "\n",
    "cevre(5,3.14)"
   ]
  },
  {
   "cell_type": "markdown",
   "metadata": {
    "colab_type": "text",
    "id": "Bm13r-al679M"
   },
   "source": [
    "### Sınıflar (Classes)"
   ]
  },
  {
   "cell_type": "markdown",
   "metadata": {
    "colab_type": "text",
    "id": "cC4JBHCf679M"
   },
   "source": [
    "Python'da sınıfları şu şekilde tanımlarız:"
   ]
  },
  {
   "cell_type": "code",
   "execution_count": 72,
   "metadata": {
    "colab": {},
    "colab_type": "code",
    "id": "f1p7mDD6679N",
    "outputId": "06e4863c-bfa9-43b2-f6ae-a93a3ae026ca"
   },
   "outputs": [
    {
     "name": "stdout",
     "output_type": "stream",
     "text": [
      "Merhaba, Fuat\n",
      "MERHABA, FUAT!\n"
     ]
    }
   ],
   "source": [
    "class Karsilayici:\n",
    "\n",
    "    # Oluşturma\n",
    "    def __init__(self, isim):\n",
    "        self.isim = isim  # Örnek (instance) değişkeni tanımlayalım\n",
    "\n",
    "    # Örnek (instance) yöntemi\n",
    "    def selam(self, buyukHarf = False):\n",
    "        if buyukHarf:\n",
    "            print ('MERHABA, %s!' % self.isim.upper())\n",
    "        else:\n",
    "            print ('Merhaba, %s' % self.isim)\n",
    "\n",
    "g = Karsilayici('Fuat')     # Karşılayıcı sınıfında bir örnek oluşturalım \n",
    "g.selam()                   # Merhaba, Fuat\n",
    "g.selam(buyukHarf = True)   # MERHABA, FUAT!"
   ]
  },
  {
   "cell_type": "markdown",
   "metadata": {
    "colab_type": "text",
    "id": "3tyVUT0s679P"
   },
   "source": [
    "## Numpy"
   ]
  },
  {
   "cell_type": "markdown",
   "metadata": {
    "colab_type": "text",
    "id": "BlStqyyR679P"
   },
   "source": [
    "Numpy bilimsel hesaplamalarda sıklıkla kullanılan Python'un temel kütüphanelerinden bir tanesidir."
   ]
  },
  {
   "cell_type": "markdown",
   "metadata": {
    "colab_type": "text",
    "id": "6pe8151F679P"
   },
   "source": [
    "`Numpy` kütüphanesini kullanabilmek için öncelikle `import` kullanarak çağırmamız gerekir."
   ]
  },
  {
   "cell_type": "code",
   "execution_count": 73,
   "metadata": {
    "colab": {},
    "colab_type": "code",
    "id": "bhhKXC0O679Q"
   },
   "outputs": [],
   "source": [
    "import numpy as np"
   ]
  },
  {
   "cell_type": "markdown",
   "metadata": {
    "colab_type": "text",
    "id": "pBw0NtmC679Q"
   },
   "source": [
    "### Diziler"
   ]
  },
  {
   "cell_type": "code",
   "execution_count": 74,
   "metadata": {
    "colab": {},
    "colab_type": "code",
    "id": "qyh89byi679R",
    "outputId": "16ccb575-35dc-454a-91dc-b1b956db289c"
   },
   "outputs": [
    {
     "name": "stdout",
     "output_type": "stream",
     "text": [
      "<class 'numpy.ndarray'> (3,)\n",
      "1 2 3\n",
      "[5 2 3]\n"
     ]
    }
   ],
   "source": [
    "a = np.array([1, 2, 3])  # Birinci dereceden dizi tanımlayalım\n",
    "\n",
    "print (type(a), a.shape) # Dizinin veri tipini ve boyutunu yazdıralım\n",
    "print(a[0], a[1], a[2])  # Dizinin her bir elemanını ayrı ayrı yazdıralım\n",
    "\n",
    "a[0] = 5                 # Dizinin ilk elamanını 5 ile değiştirelim\n",
    "print (a)   "
   ]
  },
  {
   "cell_type": "code",
   "execution_count": 75,
   "metadata": {
    "colab": {},
    "colab_type": "code",
    "id": "7RJq5boB679U",
    "outputId": "7326f6a5-4fba-4aa2-f593-b9ed29367fc4"
   },
   "outputs": [
    {
     "name": "stdout",
     "output_type": "stream",
     "text": [
      "[[1 2 3]\n",
      " [4 5 6]]\n"
     ]
    }
   ],
   "source": [
    "b = np.array([[1,2,3],[4,5,6]])   # İkinci dereceden dizi tanımlayalım\n",
    "print (b)"
   ]
  },
  {
   "cell_type": "markdown",
   "metadata": {},
   "source": [
    "**İPUCU**: Yukarıda köşeli parantez sayısının dereceyi (rank) verdiğine dikkat edin.\n",
    "\n",
    "Bir dizinin derecesini `.ndim` ile görebiliriz. "
   ]
  },
  {
   "cell_type": "code",
   "execution_count": 76,
   "metadata": {},
   "outputs": [
    {
     "data": {
      "text/plain": [
       "2"
      ]
     },
     "execution_count": 76,
     "metadata": {},
     "output_type": "execute_result"
    }
   ],
   "source": [
    "b.ndim"
   ]
  },
  {
   "cell_type": "code",
   "execution_count": 77,
   "metadata": {
    "colab": {},
    "colab_type": "code",
    "id": "Dq6MueDU679X",
    "outputId": "ded528b0-d531-4f39-ee12-a7d0087b89fe"
   },
   "outputs": [
    {
     "name": "stdout",
     "output_type": "stream",
     "text": [
      "(2, 3)\n",
      "1 2 4\n"
     ]
    }
   ],
   "source": [
    "print (b.shape)                   \n",
    "print (b[0, 0], b[0, 1], b[1, 0])"
   ]
  },
  {
   "cell_type": "markdown",
   "metadata": {
    "colab_type": "text",
    "id": "MB0NUUzk679Z"
   },
   "source": [
    "**Sıfırlardan** oluşan bir dizi için `np.zeros()` kullanılır."
   ]
  },
  {
   "cell_type": "code",
   "execution_count": 78,
   "metadata": {
    "colab": {},
    "colab_type": "code",
    "id": "XrnnqJCj679Z",
    "outputId": "38a20b55-f857-47a6-9556-825a41bf9690"
   },
   "outputs": [
    {
     "name": "stdout",
     "output_type": "stream",
     "text": [
      "[[0. 0.]\n",
      " [0. 0.]]\n"
     ]
    }
   ],
   "source": [
    "a = np.zeros((2,2))  # Tüm elemanları \"sıfır\" olan 2 x 2 boyutlu dizi\n",
    "print (a)"
   ]
  },
  {
   "cell_type": "markdown",
   "metadata": {},
   "source": [
    "**Birlerden** oluşan bir dizi için `np.ones()` kullanılır."
   ]
  },
  {
   "cell_type": "code",
   "execution_count": 79,
   "metadata": {
    "colab": {},
    "colab_type": "code",
    "id": "ooJNhDeT679e",
    "outputId": "d074623a-e43b-4fb1-e24a-d8d261b0ca03"
   },
   "outputs": [
    {
     "name": "stdout",
     "output_type": "stream",
     "text": [
      "[[1. 1.]]\n"
     ]
    }
   ],
   "source": [
    "b = np.ones((1,2))   # Tüm elemanları \"bir\" olan 1 x 2 boyutlu dizi\n",
    "print (b)"
   ]
  },
  {
   "cell_type": "markdown",
   "metadata": {},
   "source": [
    "**İstediğimiz bir değerden** oluşan bir dizi için `np.full()` kullanılır."
   ]
  },
  {
   "cell_type": "code",
   "execution_count": 80,
   "metadata": {
    "colab": {},
    "colab_type": "code",
    "id": "w2JY1I_s679g",
    "outputId": "04e905d4-1334-4787-9b1a-743c81673eec"
   },
   "outputs": [
    {
     "name": "stdout",
     "output_type": "stream",
     "text": [
      "[[7 7]\n",
      " [7 7]]\n"
     ]
    }
   ],
   "source": [
    "c = np.full((2,2), 7) # Tüm elemanları \"yedi\" olan 2 x 2 boyutlu dizi\n",
    "print (c) "
   ]
  },
  {
   "cell_type": "markdown",
   "metadata": {},
   "source": [
    "**Boş matris** oluşturmak için `np.empty()` kullanılır."
   ]
  },
  {
   "cell_type": "code",
   "execution_count": 81,
   "metadata": {},
   "outputs": [
    {
     "name": "stdout",
     "output_type": "stream",
     "text": [
      "[[ 1.49166815e-154  1.49166815e-154  2.13073819e-314  1.48219694e-323\n",
      "   0.00000000e+000]\n",
      " [ 0.00000000e+000  0.00000000e+000  4.51695604e-077  0.00000000e+000\n",
      "   0.00000000e+000]\n",
      " [-1.20887293e+042  0.00000000e+000  0.00000000e+000 -1.18659191e+294\n",
      "   2.14071040e-314]\n",
      " [ 2.20752052e-314 -2.85949528e+252  0.00000000e+000  0.00000000e+000\n",
      "   9.88131292e-324]]\n"
     ]
    }
   ],
   "source": [
    "d = np.empty((4,5))\n",
    "print(d)"
   ]
  },
  {
   "cell_type": "markdown",
   "metadata": {},
   "source": [
    "**Birim matris** oluşturmak için `np.eye()` kullanılır."
   ]
  },
  {
   "cell_type": "code",
   "execution_count": 82,
   "metadata": {
    "colab": {},
    "colab_type": "code",
    "id": "mEq6W3DE679i",
    "outputId": "ce9c47e2-5f7c-425f-ab04-77f173417065"
   },
   "outputs": [
    {
     "name": "stdout",
     "output_type": "stream",
     "text": [
      "[[1. 0. 0. 0.]\n",
      " [0. 1. 0. 0.]\n",
      " [0. 0. 1. 0.]\n",
      " [0. 0. 0. 1.]]\n"
     ]
    }
   ],
   "source": [
    "e = np.eye(4)        # 4 x 4 boyutlu birim matris\n",
    "print (e)"
   ]
  },
  {
   "cell_type": "markdown",
   "metadata": {},
   "source": [
    "**Rastgele matris** oluşturmak için `np.random.random()` kullanılır."
   ]
  },
  {
   "cell_type": "code",
   "execution_count": 83,
   "metadata": {
    "colab": {},
    "colab_type": "code",
    "id": "ZLCxF4qP679m",
    "outputId": "e5d56199-d2be-4bb9-9083-f2ad9ac17ce8"
   },
   "outputs": [
    {
     "name": "stdout",
     "output_type": "stream",
     "text": [
      "[[0.62367218 0.31896214 0.25819494 0.96029812 0.86536161]\n",
      " [0.64838284 0.15195853 0.6950718  0.42502487 0.78779067]\n",
      " [0.11784166 0.82279376 0.92368953 0.8091465  0.47752823]\n",
      " [0.67451471 0.08220357 0.53652865 0.86726628 0.54858218]\n",
      " [0.88965485 0.09661616 0.95576351 0.54510851 0.64127649]]\n"
     ]
    }
   ],
   "source": [
    "f = np.random.random((5,5)) # 5 x 5 boyutlu rastgele değerlerden oluşan matris\n",
    "print (f)"
   ]
  },
  {
   "cell_type": "markdown",
   "metadata": {},
   "source": [
    "Belirli bir aralıklı sayılardan oluşan bir dizi oluşturmak için `.arange()` kullanırız."
   ]
  },
  {
   "cell_type": "code",
   "execution_count": 84,
   "metadata": {},
   "outputs": [
    {
     "name": "stdout",
     "output_type": "stream",
     "text": [
      "[0 1 2 3 4 5 6 7 8 9]\n"
     ]
    }
   ],
   "source": [
    "g = np.arange(0,10,1) # 0'dan 10'a (hariç) aralarında 1 olan\n",
    "print(g)"
   ]
  },
  {
   "cell_type": "code",
   "execution_count": 85,
   "metadata": {},
   "outputs": [
    {
     "name": "stdout",
     "output_type": "stream",
     "text": [
      "[0. 1. 2. 3. 4. 5. 6. 7. 8. 9.]\n"
     ]
    }
   ],
   "source": [
    "h = np.linspace(0,9,10) # 0'dan 9'a (dahil) 10 adet sayı \n",
    "print(h)"
   ]
  },
  {
   "cell_type": "code",
   "execution_count": 86,
   "metadata": {},
   "outputs": [],
   "source": [
    "dizim = np.array([11,22,23,14,5,36,7,3,9,5,11,133,13,5,66])"
   ]
  },
  {
   "cell_type": "markdown",
   "metadata": {},
   "source": [
    "Bir dizinin boyutu `.shape` ile görülür."
   ]
  },
  {
   "cell_type": "code",
   "execution_count": 87,
   "metadata": {},
   "outputs": [
    {
     "data": {
      "text/plain": [
       "(15,)"
      ]
     },
     "execution_count": 87,
     "metadata": {},
     "output_type": "execute_result"
    }
   ],
   "source": [
    "dizim.shape"
   ]
  },
  {
   "cell_type": "markdown",
   "metadata": {},
   "source": [
    "Diziyi yeniden boyutlandırmak için `.reshape` kullanılır."
   ]
  },
  {
   "cell_type": "code",
   "execution_count": 88,
   "metadata": {},
   "outputs": [
    {
     "data": {
      "text/plain": [
       "array([[ 11,  22,  23],\n",
       "       [ 14,   5,  36],\n",
       "       [  7,   3,   9],\n",
       "       [  5,  11, 133],\n",
       "       [ 13,   5,  66]])"
      ]
     },
     "execution_count": 88,
     "metadata": {},
     "output_type": "execute_result"
    }
   ],
   "source": [
    "dizim.reshape(5,3)"
   ]
  },
  {
   "cell_type": "code",
   "execution_count": 89,
   "metadata": {},
   "outputs": [
    {
     "data": {
      "text/plain": [
       "array([ 11,  22,  23,  14,   5,  36,   7,   3,   9,   5,  11, 133,  13,\n",
       "         5,  66])"
      ]
     },
     "execution_count": 89,
     "metadata": {},
     "output_type": "execute_result"
    }
   ],
   "source": [
    "dizim"
   ]
  },
  {
   "cell_type": "markdown",
   "metadata": {},
   "source": [
    "Fakat yukarıda da görebileceğiniz üzere yalnızca `.reshape()` kullandığınızda dizinin boyutu değişmez. Bunun için ya `.resize()` fonksiyonunu kullanmak ya da diziye atama yapmak gerekir."
   ]
  },
  {
   "cell_type": "code",
   "execution_count": 90,
   "metadata": {},
   "outputs": [
    {
     "name": "stdout",
     "output_type": "stream",
     "text": [
      "[[ 11  22  23]\n",
      " [ 14   5  36]\n",
      " [  7   3   9]\n",
      " [  5  11 133]\n",
      " [ 13   5  66]]\n"
     ]
    }
   ],
   "source": [
    "dizim.resize(5,3)\n",
    "print(dizim)"
   ]
  },
  {
   "cell_type": "code",
   "execution_count": 91,
   "metadata": {},
   "outputs": [
    {
     "name": "stdout",
     "output_type": "stream",
     "text": [
      "[[ 11  22  23  14   5]\n",
      " [ 36   7   3   9   5]\n",
      " [ 11 133  13   5  66]]\n"
     ]
    }
   ],
   "source": [
    "dizim = dizim.reshape(3,5)\n",
    "print(dizim)"
   ]
  },
  {
   "cell_type": "markdown",
   "metadata": {},
   "source": [
    "Diziyi tek boyutlu bir vektör haline getirmek için `.ravel()` fonksiyonunu kullanabiliriz."
   ]
  },
  {
   "cell_type": "code",
   "execution_count": 92,
   "metadata": {},
   "outputs": [
    {
     "name": "stdout",
     "output_type": "stream",
     "text": [
      "[ 11  22  23  14   5  36   7   3   9   5  11 133  13   5  66]\n"
     ]
    }
   ],
   "source": [
    "dizim = dizim.ravel()\n",
    "print(dizim)"
   ]
  },
  {
   "cell_type": "markdown",
   "metadata": {},
   "source": [
    "Dizinin uzunluğunu `.size` ile görürüz."
   ]
  },
  {
   "cell_type": "code",
   "execution_count": 93,
   "metadata": {},
   "outputs": [
    {
     "data": {
      "text/plain": [
       "15"
      ]
     },
     "execution_count": 93,
     "metadata": {},
     "output_type": "execute_result"
    }
   ],
   "source": [
    "dizim.size"
   ]
  },
  {
   "cell_type": "markdown",
   "metadata": {},
   "source": [
    "Dizi elemanlarının veri tiplerine `.dtype` ile bakarız."
   ]
  },
  {
   "cell_type": "code",
   "execution_count": 94,
   "metadata": {},
   "outputs": [
    {
     "data": {
      "text/plain": [
       "dtype('int64')"
      ]
     },
     "execution_count": 94,
     "metadata": {},
     "output_type": "execute_result"
    }
   ],
   "source": [
    "dizim.dtype"
   ]
  },
  {
   "cell_type": "markdown",
   "metadata": {},
   "source": [
    "Dizinin en büyük elemanını `max()` ile bulabiliriz."
   ]
  },
  {
   "cell_type": "code",
   "execution_count": 95,
   "metadata": {},
   "outputs": [
    {
     "data": {
      "text/plain": [
       "133"
      ]
     },
     "execution_count": 95,
     "metadata": {},
     "output_type": "execute_result"
    }
   ],
   "source": [
    "dizim.max()"
   ]
  },
  {
   "cell_type": "markdown",
   "metadata": {},
   "source": [
    "Dizinin en küçük elemanını `min()` ile bulabiliriz."
   ]
  },
  {
   "cell_type": "code",
   "execution_count": 96,
   "metadata": {},
   "outputs": [
    {
     "data": {
      "text/plain": [
       "3"
      ]
     },
     "execution_count": 96,
     "metadata": {},
     "output_type": "execute_result"
    }
   ],
   "source": [
    "dizim.min()"
   ]
  },
  {
   "cell_type": "markdown",
   "metadata": {},
   "source": [
    "Dizinin tersini almak için `dizi[::-1]` kullanıyoruz. Listelerde `reverse()` fonksiyonu vardı hatırlarsanız. "
   ]
  },
  {
   "cell_type": "code",
   "execution_count": 97,
   "metadata": {},
   "outputs": [
    {
     "data": {
      "text/plain": [
       "array([ 66,   5,  13, 133,  11,   5,   9,   3,   7,  36,   5,  14,  23,\n",
       "        22,  11])"
      ]
     },
     "execution_count": 97,
     "metadata": {},
     "output_type": "execute_result"
    }
   ],
   "source": [
    "dizim[::-1]"
   ]
  },
  {
   "cell_type": "code",
   "execution_count": 98,
   "metadata": {},
   "outputs": [],
   "source": [
    "a = np.array([[1,2],[3,4]])\n",
    "b = np.array([[5,6],[7,8]])"
   ]
  },
  {
   "cell_type": "markdown",
   "metadata": {},
   "source": [
    "İki diziyi **dikey** olarak art arda eklemek (_stack_) için `.vstack()` kullanırız."
   ]
  },
  {
   "cell_type": "code",
   "execution_count": 99,
   "metadata": {},
   "outputs": [
    {
     "data": {
      "text/plain": [
       "array([[1, 2],\n",
       "       [3, 4],\n",
       "       [5, 6],\n",
       "       [7, 8]])"
      ]
     },
     "execution_count": 99,
     "metadata": {},
     "output_type": "execute_result"
    }
   ],
   "source": [
    "np.vstack((a,b))"
   ]
  },
  {
   "cell_type": "markdown",
   "metadata": {},
   "source": [
    "İki diziyi **yatay** olarak art arda eklemek (_stack_) için ise `.hstack()` kullanırız."
   ]
  },
  {
   "cell_type": "code",
   "execution_count": 100,
   "metadata": {},
   "outputs": [
    {
     "data": {
      "text/plain": [
       "array([[1, 2, 5, 6],\n",
       "       [3, 4, 7, 8]])"
      ]
     },
     "execution_count": 100,
     "metadata": {},
     "output_type": "execute_result"
    }
   ],
   "source": [
    "np.hstack((a,b))"
   ]
  },
  {
   "cell_type": "markdown",
   "metadata": {
    "colab_type": "text",
    "id": "qN3x1ulv679o"
   },
   "source": [
    "### Dizi İndeksleme"
   ]
  },
  {
   "cell_type": "markdown",
   "metadata": {
    "colab_type": "text",
    "id": "laez-d6T679p"
   },
   "source": [
    "Numpy dizilerde indeksleme yapmak için farklı seçenekler sunmaktadır."
   ]
  },
  {
   "cell_type": "markdown",
   "metadata": {
    "colab_type": "text",
    "id": "Za0yPj1X679p"
   },
   "source": [
    "Dilimleme (Slicing): Python listelerine de dilimlenebilir. Diziler çok boyutlu olduğu için her bir boyut için dilimi belirlemek gerekmektedir."
   ]
  },
  {
   "cell_type": "code",
   "execution_count": 101,
   "metadata": {
    "colab": {},
    "colab_type": "code",
    "id": "iI-f9hgk679q",
    "outputId": "7f2e4946-24fe-44ce-c0de-bd5eb756060b"
   },
   "outputs": [
    {
     "name": "stdout",
     "output_type": "stream",
     "text": [
      "[[2 3]\n",
      " [6 7]]\n"
     ]
    }
   ],
   "source": [
    "import numpy as np\n",
    "\n",
    "# 2. dereceden (rank) boyutu (3, 4) olan dizi tanımlayalım.\n",
    "\n",
    "# [[ 1  2  3  4]\n",
    "#  [ 5  6  7  8]\n",
    "#  [ 9 10 11 12]]\n",
    "\n",
    "a = np.array([[1,2,3,4], \n",
    "              [5,6,7,8], \n",
    "              [9,10,11,12]])\n",
    "\n",
    "# Dilimleme kullanarak ilk iki satırı ve \n",
    "# 1. ve 2. sütunları içeren alt-dizi oluşturalım.\n",
    "# Alt-dizinin boyutu (2, 2) olacaktır.\n",
    "\n",
    "# [[2 3]\n",
    "#  [6 7]]\n",
    "\n",
    "b = a[:2, 1:3] # 0. ve 1. satır / 1. ve 2. sütun\n",
    "print (b)"
   ]
  },
  {
   "cell_type": "code",
   "execution_count": 102,
   "metadata": {},
   "outputs": [
    {
     "data": {
      "text/plain": [
       "array([[ 1,  2,  3,  4],\n",
       "       [ 5,  6,  7,  8],\n",
       "       [ 9, 10, 11, 12]])"
      ]
     },
     "execution_count": 102,
     "metadata": {},
     "output_type": "execute_result"
    }
   ],
   "source": [
    "a"
   ]
  },
  {
   "cell_type": "markdown",
   "metadata": {
    "colab_type": "text",
    "id": "oPuQtPXN679s"
   },
   "source": [
    "**İPUCU**: Dilimi, orijinal veriden aldığımız için dilim üzerinde yaptığımız değişik orijinal veriye etki eder."
   ]
  },
  {
   "cell_type": "code",
   "execution_count": 103,
   "metadata": {
    "colab": {},
    "colab_type": "code",
    "id": "jqcOi0P7679t",
    "outputId": "c55dfe5d-3628-4934-9ed9-20cebc5cd9af"
   },
   "outputs": [
    {
     "name": "stdout",
     "output_type": "stream",
     "text": [
      "2\n",
      "77\n"
     ]
    }
   ],
   "source": [
    "print (a[0, 1])  \n",
    "b[0, 0] = 77    # b[0, 0] ile aslında a[0, 1]'yı işaret ediyoruz\n",
    "print (a[0, 1]) "
   ]
  },
  {
   "cell_type": "code",
   "execution_count": 104,
   "metadata": {
    "colab": {},
    "colab_type": "code",
    "id": "BLWI50ET679v",
    "outputId": "98d6b2cf-1509-4c50-daac-7e06589d6ae0"
   },
   "outputs": [
    {
     "name": "stdout",
     "output_type": "stream",
     "text": [
      "[[ 1  2  3  4]\n",
      " [ 5  6  7  8]\n",
      " [ 9 10 11 12]]\n"
     ]
    }
   ],
   "source": [
    "# 3 x 4 boyutunda 2. dereceden bir dizi oluşturalım\n",
    "a = np.array([[1,2,3,4], [5,6,7,8], [9,10,11,12]])\n",
    "print (a)"
   ]
  },
  {
   "cell_type": "markdown",
   "metadata": {},
   "source": [
    "Oluşturduğumuz dizinin ortadaki (ikinci) satırına nasıl ulaşabiliriz? Dereceler farklı olmak üzere üç farklı yöntem vardır."
   ]
  },
  {
   "cell_type": "code",
   "execution_count": 105,
   "metadata": {
    "colab": {},
    "colab_type": "code",
    "id": "2Jyy07rc679x",
    "outputId": "d18b7d99-243d-4325-ea27-9a6e5107df57"
   },
   "outputs": [
    {
     "name": "stdout",
     "output_type": "stream",
     "text": [
      "[5 6 7 8] (4,)\n",
      "[[5 6 7 8]] (1, 4)\n",
      "[[5 6 7 8]] (1, 4)\n"
     ]
    }
   ],
   "source": [
    "satir_v1 = a[1, :]    # İkinci satırın 1. dereceden görünüşü  \n",
    "satir_v2 = a[1:2, :]  # İkinci satırın 2. dereceden görünüşü  \n",
    "satir_v3 = a[[1], :]  # İkinci satırın 2. dereceden görünüşü  \n",
    "\n",
    "print (satir_v1, satir_v1.shape) \n",
    "print (satir_v2, satir_v2.shape)\n",
    "print (satir_v3, satir_v3.shape)"
   ]
  },
  {
   "cell_type": "markdown",
   "metadata": {},
   "source": [
    "Aynı yöntem sütunlar için de geçerlidir."
   ]
  },
  {
   "cell_type": "code",
   "execution_count": 106,
   "metadata": {
    "colab": {},
    "colab_type": "code",
    "id": "iR1_tZNf6790",
    "outputId": "0f67a15a-44e2-4a7b-a528-16b01d6c9ba4"
   },
   "outputs": [
    {
     "name": "stdout",
     "output_type": "stream",
     "text": [
      "[ 2  6 10] (3,)\n",
      "[[ 2]\n",
      " [ 6]\n",
      " [10]] (3, 1)\n"
     ]
    }
   ],
   "source": [
    "sutun_v1 = a[:, 1]\n",
    "sutun_v2 = a[:, 1:2]\n",
    "\n",
    "print (sutun_v1, sutun_v1.shape) # 1. derece\n",
    "print (sutun_v2, sutun_v2.shape) # 2. derece"
   ]
  },
  {
   "cell_type": "markdown",
   "metadata": {},
   "source": [
    "**İPUCU**: Yukarıdaki örnekte gördüğünüz gibi normalde dikey olan sütun dizisi 1. dereceden olduğu zaman satır ya da sütun olabilmektedir. İndekslemede problemle karşılaşmamak için tavsiyem 1. dereceden dizileri kullanmaktan mümkün olduğunca kaçınmanız."
   ]
  },
  {
   "cell_type": "markdown",
   "metadata": {
    "colab_type": "text",
    "id": "1NJFB0Sm6792"
   },
   "source": [
    "Dizilerde önce satırları sonra da sütunları indeksleyebileceğimiz gibi ayrı ayrı da indeksleme yapabiliriz."
   ]
  },
  {
   "cell_type": "code",
   "execution_count": 107,
   "metadata": {
    "colab": {},
    "colab_type": "code",
    "id": "jEoxS9QB6792",
    "outputId": "bd1ff059-ec99-4483-c794-71d6c3d28169"
   },
   "outputs": [
    {
     "name": "stdout",
     "output_type": "stream",
     "text": [
      "[1 4 5]\n",
      "[1 4 5]\n"
     ]
    }
   ],
   "source": [
    "a = np.array([[1,2], [3, 4], [5, 6]])\n",
    "\n",
    "# a[0,0], a[1,1] ve a[2,0]'ı indekslemek için  \n",
    "print (a[[0, 1, 2], [0, 1, 0]])\n",
    "\n",
    "# Ayrı ayrı indeksleme yapalım\n",
    "print (np.array([a[0, 0], a[1, 1], a[2, 0]]))"
   ]
  },
  {
   "cell_type": "code",
   "execution_count": 108,
   "metadata": {
    "colab": {},
    "colab_type": "code",
    "id": "MnRBMkEk679_",
    "outputId": "1ae15d20-91ad-4272-f574-00f8cc8aabec"
   },
   "outputs": [
    {
     "name": "stdout",
     "output_type": "stream",
     "text": [
      "[[ 1  2  3]\n",
      " [ 4  5  6]\n",
      " [ 7  8  9]\n",
      " [10 11 12]]\n"
     ]
    }
   ],
   "source": [
    "a = np.array([[1,2,3], [4,5,6], [7,8,9], [10, 11, 12]])\n",
    "print (a)"
   ]
  },
  {
   "cell_type": "code",
   "execution_count": 109,
   "metadata": {
    "colab": {},
    "colab_type": "code",
    "id": "mrx4ydsK67-A",
    "outputId": "eaab8fd2-aaf0-44d0-caf4-27ee6658c982"
   },
   "outputs": [
    {
     "name": "stdout",
     "output_type": "stream",
     "text": [
      "[ 1  6  7 11]\n"
     ]
    }
   ],
   "source": [
    "# İndis dizisi oluşturalım\n",
    "indis = np.array([0, 2, 0, 1])\n",
    "\n",
    "# Her satırdan sırasıyla indis dizisini kullanarak değerleri seçelim \n",
    "print (a[np.arange(4), indis])  # \"[ 1  6  7 11]\""
   ]
  },
  {
   "cell_type": "code",
   "execution_count": 110,
   "metadata": {},
   "outputs": [
    {
     "name": "stdout",
     "output_type": "stream",
     "text": [
      "[[ 1  2  3]\n",
      " [ 4  5  6]\n",
      " [ 7  8  9]\n",
      " [10 11 12]]\n"
     ]
    }
   ],
   "source": [
    "print(a)"
   ]
  },
  {
   "cell_type": "code",
   "execution_count": 111,
   "metadata": {
    "colab": {},
    "colab_type": "code",
    "id": "O_NBDN5667-C",
    "outputId": "e6013731-b858-4855-8860-8d6f2ca9afbc"
   },
   "outputs": [
    {
     "name": "stdout",
     "output_type": "stream",
     "text": [
      "[[11  2  3]\n",
      " [ 4  5 16]\n",
      " [17  8  9]\n",
      " [10 21 12]]\n"
     ]
    }
   ],
   "source": [
    "# İndis dizisini kullanarak elemanlara 10 ekleyelim.\n",
    "a[np.arange(4), indis] += 10\n",
    "\n",
    "print (a)"
   ]
  },
  {
   "cell_type": "markdown",
   "metadata": {
    "colab_type": "text",
    "id": "EMM7fRu067-E"
   },
   "source": [
    "Boolean dizi indeksleme: Belirtilen koşulu sağlayan elemanları bulmak için Boolean dizi indeksleme kullanılır."
   ]
  },
  {
   "cell_type": "code",
   "execution_count": 112,
   "metadata": {
    "colab": {},
    "colab_type": "code",
    "id": "rv6txP5667-E",
    "outputId": "d0d53a36-cf04-42f5-a390-3a0bee8196a2"
   },
   "outputs": [
    {
     "name": "stdout",
     "output_type": "stream",
     "text": [
      "[[1 2]\n",
      " [3 4]\n",
      " [5 6]]\n",
      "[[False False]\n",
      " [ True  True]\n",
      " [ True  True]]\n"
     ]
    }
   ],
   "source": [
    "import numpy as np\n",
    "\n",
    "a = np.array([[1,2], [3, 4], [5, 6]])\n",
    "\n",
    "print(a)\n",
    "\n",
    "ikidenBuyuk = (a > 2)  # 2'den büyük olanları seçelim\n",
    "                    # a dizisi ile aynı boyuttu yeni bir dizis oluşturur\n",
    "                    # 2'den büyük ise True, küçük ise False döndürür\n",
    "\n",
    "print (ikidenBuyuk)"
   ]
  },
  {
   "cell_type": "code",
   "execution_count": 113,
   "metadata": {
    "colab": {},
    "colab_type": "code",
    "id": "B2E9Kp8_67-H",
    "outputId": "6e4083cd-90c4-4109-87c6-1721689ba0f2"
   },
   "outputs": [
    {
     "name": "stdout",
     "output_type": "stream",
     "text": [
      "[3 4 5 6]\n",
      "[3 4 5 6]\n"
     ]
    }
   ],
   "source": [
    "# Boolean indeksleme kullanarak bulduğumuz değerleri yazdıralım\n",
    "print (a[ikidenBuyuk])\n",
    "\n",
    "# 2'den büyük olanları şu şekilde de bulabiliriz.\n",
    "print (a[a > 2])"
   ]
  },
  {
   "cell_type": "markdown",
   "metadata": {
    "colab_type": "text",
    "id": "UheI9Iau67-K"
   },
   "source": [
    "### Numpy Veri Tipleri\n",
    "\n",
    "Numpy ile bir dizi oluşturduğunuzda veri tipi tahmin edilmeye çalışılır."
   ]
  },
  {
   "cell_type": "code",
   "execution_count": 114,
   "metadata": {
    "colab": {},
    "colab_type": "code",
    "id": "TpRtBqkq67-L",
    "outputId": "619c378a-80f5-4d23-979e-94bb6f4937ae"
   },
   "outputs": [
    {
     "name": "stdout",
     "output_type": "stream",
     "text": [
      "int64 float64 int64\n"
     ]
    }
   ],
   "source": [
    "x = np.array([1, 2])  # Veri tipini Numpy seçsin\n",
    "y = np.array([1.0, 2.0])  # Veri tipini Numpy seçsin\n",
    "z = np.array([1, 2], dtype=np.int64)  # Veri tipini BİZ belirleyelim\n",
    "\n",
    "# Veri tiplerini ekrana yazdıralım\n",
    "print (x.dtype, y.dtype, z.dtype)"
   ]
  },
  {
   "cell_type": "markdown",
   "metadata": {
    "colab_type": "text",
    "id": "e5XtmK8U67-N"
   },
   "source": [
    "Diğer Numpy veri tiplerine [orijinal dokümanından](http://docs.scipy.org/doc/numpy/reference/arrays.dtypes.html) bakabilirsiniz."
   ]
  },
  {
   "cell_type": "markdown",
   "metadata": {
    "colab_type": "text",
    "id": "blV4fLzx67-N"
   },
   "source": [
    "### Dizilerde Matematiksel İşlemler"
   ]
  },
  {
   "cell_type": "code",
   "execution_count": 115,
   "metadata": {},
   "outputs": [],
   "source": [
    "x = np.array([[1,2],[3,4]], dtype=np.float64)\n",
    "y = np.array([[5,6],[7,8]], dtype=np.float64)"
   ]
  },
  {
   "cell_type": "markdown",
   "metadata": {
    "colab_type": "text",
    "id": "ENt83Yu667-O"
   },
   "source": [
    "Dizilerde temel matematiksel işlemler şu şekilde yapılır."
   ]
  },
  {
   "cell_type": "markdown",
   "metadata": {},
   "source": [
    "#### Toplama"
   ]
  },
  {
   "cell_type": "code",
   "execution_count": 116,
   "metadata": {
    "colab": {},
    "colab_type": "code",
    "id": "VaJIIyJB67-O",
    "outputId": "eb1c0b4f-8787-4433-9299-fff26ec8fe10"
   },
   "outputs": [
    {
     "name": "stdout",
     "output_type": "stream",
     "text": [
      "[[ 6.  8.]\n",
      " [10. 12.]]\n",
      "[[ 6.  8.]\n",
      " [10. 12.]]\n"
     ]
    }
   ],
   "source": [
    "print (x + y)\n",
    "print (np.add(x, y))"
   ]
  },
  {
   "cell_type": "markdown",
   "metadata": {},
   "source": [
    "**İPUCU**: `np.add()` ile `x + y` aynı sonucu verir!"
   ]
  },
  {
   "cell_type": "markdown",
   "metadata": {},
   "source": [
    "#### Çıkarma"
   ]
  },
  {
   "cell_type": "code",
   "execution_count": 117,
   "metadata": {
    "colab": {},
    "colab_type": "code",
    "id": "RLvyzh7M67-R",
    "outputId": "bbaf9083-48f8-4686-c09f-ec6c810b79a3"
   },
   "outputs": [
    {
     "name": "stdout",
     "output_type": "stream",
     "text": [
      "[[-4. -4.]\n",
      " [-4. -4.]]\n",
      "[[-4. -4.]\n",
      " [-4. -4.]]\n"
     ]
    }
   ],
   "source": [
    "print (x - y)\n",
    "print (np.subtract(x, y))"
   ]
  },
  {
   "cell_type": "markdown",
   "metadata": {},
   "source": [
    "**İPUCU**: `np.subtract()` ile `x - y` aynı sonucu verir!"
   ]
  },
  {
   "cell_type": "markdown",
   "metadata": {},
   "source": [
    "#### Çarpma"
   ]
  },
  {
   "cell_type": "code",
   "execution_count": 118,
   "metadata": {
    "colab": {},
    "colab_type": "code",
    "id": "thMJ8lUH67-U",
    "outputId": "33f98e85-8894-4f4d-9776-0d0e7d58c7fa"
   },
   "outputs": [
    {
     "name": "stdout",
     "output_type": "stream",
     "text": [
      "[[ 5. 12.]\n",
      " [21. 32.]]\n",
      "[[ 5. 12.]\n",
      " [21. 32.]]\n"
     ]
    }
   ],
   "source": [
    "print (x * y)\n",
    "print (np.multiply(x, y))"
   ]
  },
  {
   "cell_type": "markdown",
   "metadata": {},
   "source": [
    "**İPUCU**: `np.multiply()` ile `x * y` aynı sonucu verir!"
   ]
  },
  {
   "cell_type": "markdown",
   "metadata": {
    "colab_type": "text",
    "id": "tXA82gMH67-a"
   },
   "source": [
    "**İPUCU**: Her bir matris elemanının, diğer matriste o elemanın konumunda bulunan elemanla çarpılmasını istiyorsak `*` kullanırız. Matris çarpımı yapmak istiyorsak `dot` kullanmak gerekiyor."
   ]
  },
  {
   "cell_type": "markdown",
   "metadata": {},
   "source": [
    "#### Bölme"
   ]
  },
  {
   "cell_type": "code",
   "execution_count": 119,
   "metadata": {
    "colab": {},
    "colab_type": "code",
    "id": "yVaF1spU67-V",
    "outputId": "fb892c62-77ac-4a33-db6a-f974ccfe219d"
   },
   "outputs": [
    {
     "name": "stdout",
     "output_type": "stream",
     "text": [
      "[[0.2        0.33333333]\n",
      " [0.42857143 0.5       ]]\n",
      "[[0.2        0.33333333]\n",
      " [0.42857143 0.5       ]]\n"
     ]
    }
   ],
   "source": [
    "print (x / y)\n",
    "print (np.divide(x, y))"
   ]
  },
  {
   "cell_type": "markdown",
   "metadata": {},
   "source": [
    "**İPUCU**: `np.divide()` ile `x / y` aynı sonucu verir!"
   ]
  },
  {
   "cell_type": "markdown",
   "metadata": {},
   "source": [
    "#### Kök Alma"
   ]
  },
  {
   "cell_type": "code",
   "execution_count": 120,
   "metadata": {
    "colab": {},
    "colab_type": "code",
    "id": "z30SOixk67-Y",
    "outputId": "2a91c724-36e9-4521-b597-1fd1ece65694"
   },
   "outputs": [
    {
     "name": "stdout",
     "output_type": "stream",
     "text": [
      "[[1.         1.41421356]\n",
      " [1.73205081 2.        ]]\n"
     ]
    }
   ],
   "source": [
    "print (np.sqrt(x))"
   ]
  },
  {
   "cell_type": "markdown",
   "metadata": {},
   "source": [
    "#### Kare Alma"
   ]
  },
  {
   "cell_type": "code",
   "execution_count": 121,
   "metadata": {},
   "outputs": [
    {
     "name": "stdout",
     "output_type": "stream",
     "text": [
      "[[ 1.  4.]\n",
      " [ 9. 16.]]\n"
     ]
    }
   ],
   "source": [
    "print (np.square(x))"
   ]
  },
  {
   "cell_type": "markdown",
   "metadata": {},
   "source": [
    "#### $ e^x $ 'i Bulmak"
   ]
  },
  {
   "cell_type": "code",
   "execution_count": 122,
   "metadata": {},
   "outputs": [
    {
     "name": "stdout",
     "output_type": "stream",
     "text": [
      "[[  2.71828183   7.3890561 ]\n",
      " [ 20.08553692  54.59815003]\n",
      " [148.4131591  403.42879349]]\n"
     ]
    }
   ],
   "source": [
    "print(np.exp(a))"
   ]
  },
  {
   "cell_type": "markdown",
   "metadata": {},
   "source": [
    "#### Matris Çarpımı (Vektörel Çarpım)\n",
    "\n",
    "Öncelikle matrislerde çarpım işleminin nasıl yapıldığını bilmiyorsanız ya da unuttuysanız [şu videoyu](https://www.youtube.com/watch?v=8gDh7MO7yo8) izlemenizi tavsiye ederim."
   ]
  },
  {
   "cell_type": "code",
   "execution_count": 123,
   "metadata": {
    "colab": {},
    "colab_type": "code",
    "id": "kzhj16Q-67-a",
    "outputId": "b538af51-fb43-47f3-8a34-c44dc3231149"
   },
   "outputs": [],
   "source": [
    "x = np.array([[1, 2],[3, 4]])\n",
    "y = np.array([[5, 6],[7, 8]])\n",
    "\n",
    "v = np.array([9, 10])\n",
    "w = np.array([11, 12])"
   ]
  },
  {
   "cell_type": "code",
   "execution_count": 124,
   "metadata": {},
   "outputs": [
    {
     "name": "stdout",
     "output_type": "stream",
     "text": [
      "219\n",
      "219\n"
     ]
    }
   ],
   "source": [
    "# v ve w vektörlerini çarpmak için\n",
    "print (v.dot(w))\n",
    "print (np.dot(v, w))"
   ]
  },
  {
   "cell_type": "code",
   "execution_count": 125,
   "metadata": {
    "colab": {},
    "colab_type": "code",
    "id": "pvI6z2OV67-c",
    "outputId": "51f50232-9a52-43ed-ecd9-f239ca7ea08d"
   },
   "outputs": [
    {
     "name": "stdout",
     "output_type": "stream",
     "text": [
      "[29 67]\n",
      "[29 67]\n"
     ]
    }
   ],
   "source": [
    "# x matrisi ile v vektörünü çarpmak için\n",
    "print (x.dot(v))\n",
    "print (np.dot(x, v))"
   ]
  },
  {
   "cell_type": "code",
   "execution_count": 126,
   "metadata": {
    "colab": {},
    "colab_type": "code",
    "id": "EF-vZJsW67-f",
    "outputId": "fce219b0-9822-4a30-ba34-7d3fd1508a07"
   },
   "outputs": [
    {
     "name": "stdout",
     "output_type": "stream",
     "text": [
      "[[19 22]\n",
      " [43 50]]\n",
      "[[19 22]\n",
      " [43 50]]\n"
     ]
    }
   ],
   "source": [
    "# x ve y matrislerini çarpmak için\n",
    "print (x.dot(y))\n",
    "print (np.dot(x, y))"
   ]
  },
  {
   "cell_type": "markdown",
   "metadata": {},
   "source": [
    "#### Matris Elemanlarını Toplama "
   ]
  },
  {
   "cell_type": "markdown",
   "metadata": {
    "colab_type": "text",
    "id": "6CcY5LPt67-h"
   },
   "source": [
    "Numpy'da yer alan `np.sum()` ile belirli bir eksende toplama işlemleri gerçekleştirebiliriz."
   ]
  },
  {
   "cell_type": "code",
   "execution_count": 127,
   "metadata": {
    "colab": {},
    "colab_type": "code",
    "id": "fgE8AwzO67-h",
    "outputId": "c954baf8-8e6a-4adf-fe2e-a3965f8a31f1"
   },
   "outputs": [
    {
     "name": "stdout",
     "output_type": "stream",
     "text": [
      "10\n",
      "[4 6]\n",
      "[3 7]\n"
     ]
    }
   ],
   "source": [
    "x = np.array([[1,2],[3,4]])\n",
    "\n",
    "print (np.sum(x))          # Tüm matris elemanlarının toplamını ekrana yazdırır.\n",
    "print (np.sum(x, axis=0))  # Sütun toplamlarını ekrana yazdırır\n",
    "print (np.sum(x, axis=1))  # Satır toplamlarını ekrana yazdırır"
   ]
  },
  {
   "cell_type": "markdown",
   "metadata": {
    "colab_type": "text",
    "id": "oWyS3TTP67-j"
   },
   "source": [
    "Tüm matematiksel işlemlere [dokümandan](http://docs.scipy.org/doc/numpy/reference/routines.math.html) ulaşabilirsiniz."
   ]
  },
  {
   "cell_type": "markdown",
   "metadata": {},
   "source": [
    "#### Matris Transpozu Alma\n",
    "\n",
    "Matris transpozunun nasıl alındığını merak ediyorsanız [şu videoyu](https://www.youtube.com/watch?v=0sc8y60Jq04) izlemenizi tavsiye ediyorum. Transpoz almak için `.T` eklemeniz yeterli olacaktır."
   ]
  },
  {
   "cell_type": "code",
   "execution_count": 128,
   "metadata": {
    "colab": {},
    "colab_type": "code",
    "id": "Yp5H9-5D67-k",
    "outputId": "d3eb63f2-4a66-4ea0-8c2c-82a91b90bd15"
   },
   "outputs": [
    {
     "name": "stdout",
     "output_type": "stream",
     "text": [
      "[[1 2]\n",
      " [3 4]]\n",
      "[[1 3]\n",
      " [2 4]]\n"
     ]
    }
   ],
   "source": [
    "print (x)\n",
    "print (x.T)"
   ]
  },
  {
   "cell_type": "code",
   "execution_count": 129,
   "metadata": {
    "colab": {},
    "colab_type": "code",
    "id": "VMpZxuod67-m",
    "outputId": "d91b58a8-31f8-49e3-9b7d-46343f48b753"
   },
   "outputs": [
    {
     "name": "stdout",
     "output_type": "stream",
     "text": [
      "[[1 2 3]]\n",
      "[[1]\n",
      " [2]\n",
      " [3]]\n"
     ]
    }
   ],
   "source": [
    "v = np.array([[1,2,3]])\n",
    "print (v) \n",
    "print (v.T)"
   ]
  },
  {
   "cell_type": "markdown",
   "metadata": {
    "colab_type": "text",
    "id": "drTuqVch67-o"
   },
   "source": [
    "### Broadcasting"
   ]
  },
  {
   "cell_type": "markdown",
   "metadata": {
    "colab_type": "text",
    "id": "Leix550M67-o"
   },
   "source": [
    "Numpy'ın en önemli özelliklerinden bir tanesi de `broadcasting`dir. Bu işlem, küçük boyutlu bir dizi ile büyük boyutlu bir dizi arasında işlem yapılacağı zaman kolaylık sağlamaktadır. Örneğin büyük bir matrisin her bir satırına sabit sayılardan oluşan bir vektör eklemek isteyelim."
   ]
  },
  {
   "cell_type": "code",
   "execution_count": 130,
   "metadata": {
    "colab": {},
    "colab_type": "code",
    "id": "vPARS7kr67-o",
    "outputId": "bfdee846-4108-4f9b-8edf-6fb21b8759de"
   },
   "outputs": [
    {
     "name": "stdout",
     "output_type": "stream",
     "text": [
      "[[ 1  2  3]\n",
      " [ 4  5  6]\n",
      " [ 7  8  9]\n",
      " [10 11 12]]\n"
     ]
    }
   ],
   "source": [
    "# v vektörünü x matrisinin her bir satırına eklemek isteyelim\n",
    "# sonuçları y matrisinde tutalım\n",
    "\n",
    "x = np.array([[1,2,3], [4,5,6], [7,8,9], [10, 11, 12]])\n",
    "v = np.array([1, 0, 1])\n",
    "y = np.empty_like(x)   # x ile aynı boyuta sahip bir matris oluşturalım\n",
    "\n",
    "print(x) # x matrisini ekrana yazdıralım"
   ]
  },
  {
   "cell_type": "code",
   "execution_count": 131,
   "metadata": {},
   "outputs": [
    {
     "name": "stdout",
     "output_type": "stream",
     "text": [
      "[[ 2  2  4]\n",
      " [ 5  5  7]\n",
      " [ 8  8 10]\n",
      " [11 11 13]]\n"
     ]
    }
   ],
   "source": [
    "# v vektörünü x matrisinin her bir satırına for döngüsü kullanarak ekleyelim\n",
    "for i in range(4):\n",
    "    y[i, :] = x[i, :] + v\n",
    "\n",
    "print (y)"
   ]
  },
  {
   "cell_type": "markdown",
   "metadata": {
    "colab_type": "text",
    "id": "1iLogC_i67-r"
   },
   "source": [
    "Bu işlemde herhangi bir sorun görünmüyor. Fakat `x` matrisi çok büyük olursa (örneğin bir görüntü) for döngüsü kullanarak bu işlemi yapmamız çok uzun sürer.   \n",
    "\n",
    "Her bir satırında `v` vektörünün olduğu `vv` adında yeni bir matris oluşturup, bunu `x` matrisi ile toplarsak aynı işlemi yapmış olur muyuz? Deneyelim:"
   ]
  },
  {
   "cell_type": "markdown",
   "metadata": {},
   "source": [
    "Bir matrise tekrarlayan değerler atamak için [`np.tile`](https://docs.scipy.org/doc/numpy/reference/generated/numpy.tile.html) fonksiyonunu kullanabiliriz."
   ]
  },
  {
   "cell_type": "code",
   "execution_count": 132,
   "metadata": {
    "colab": {},
    "colab_type": "code",
    "id": "Wp1hIZSK67-r",
    "outputId": "ca4981e4-45a7-4cfd-e4ef-2988a230cd02"
   },
   "outputs": [
    {
     "name": "stdout",
     "output_type": "stream",
     "text": [
      "[[1 0 1]\n",
      " [1 0 1]\n",
      " [1 0 1]\n",
      " [1 0 1]]\n"
     ]
    }
   ],
   "source": [
    "vv = np.tile(v, (4, 1))  # 4 satırda 1'er kere v vektörünü kullanacağız.\n",
    "\n",
    "print (vv)"
   ]
  },
  {
   "cell_type": "code",
   "execution_count": 133,
   "metadata": {
    "colab": {},
    "colab_type": "code",
    "id": "4u5c3AmL67-t",
    "outputId": "41b87ec5-a9cc-43ea-ff7f-1cc25e59fd75"
   },
   "outputs": [
    {
     "name": "stdout",
     "output_type": "stream",
     "text": [
      "[[ 2  2  4]\n",
      " [ 5  5  7]\n",
      " [ 8  8 10]\n",
      " [11 11 13]]\n"
     ]
    }
   ],
   "source": [
    "y = x + vv  # x vv matrislerini toplayalım\n",
    "\n",
    "print (y)"
   ]
  },
  {
   "cell_type": "markdown",
   "metadata": {
    "colab_type": "text",
    "id": "VUC63_bi67-v"
   },
   "source": [
    "Evet aynı sonucu bulduk yine. Numpy `broadcasting` ile bu şekilde kopya oluşturmadan bu işlemi yapabiliriz."
   ]
  },
  {
   "cell_type": "code",
   "execution_count": 134,
   "metadata": {
    "colab": {},
    "colab_type": "code",
    "id": "LdOYpXWH67-v",
    "outputId": "db8cd042-0ecc-4ca3-cfb1-5d81dd13d647"
   },
   "outputs": [
    {
     "name": "stdout",
     "output_type": "stream",
     "text": [
      "[[ 2  2  4]\n",
      " [ 5  5  7]\n",
      " [ 8  8 10]\n",
      " [11 11 13]]\n"
     ]
    }
   ],
   "source": [
    "import numpy as np\n",
    "\n",
    "# v vektörünü x matrisinin her bir satırına eklemek isteyelim\n",
    "# sonuçları y matrisinde tutalım\n",
    "\n",
    "x = np.array([[1,2,3], [4,5,6], [7,8,9], [10, 11, 12]])\n",
    "v = np.array([1, 0, 1])\n",
    "y = (x + v)  # x matrisinin her satırına v vektörünü broadcasting kullanarak ekleyelim\n",
    "\n",
    "print (y)"
   ]
  },
  {
   "cell_type": "markdown",
   "metadata": {
    "colab_type": "text",
    "id": "bscns3jP67-y"
   },
   "source": [
    "`x`'in boyutu `(4, 3)` ve `v`'nin boyutu `(3,)` olmasına rağmen `y = x + v` satırı çalışmaktadır.\n",
    "\n",
    "Daha fazla `broadcasting` örneği:"
   ]
  },
  {
   "cell_type": "code",
   "execution_count": 135,
   "metadata": {
    "colab": {},
    "colab_type": "code",
    "id": "OqbjW15L67-z",
    "outputId": "33e895a2-6e8b-44fa-d853-b63da251810f"
   },
   "outputs": [
    {
     "name": "stdout",
     "output_type": "stream",
     "text": [
      "[[ 4  5]\n",
      " [ 8 10]\n",
      " [12 15]]\n"
     ]
    }
   ],
   "source": [
    "# v ile w'nin vektörel çarpımını hesaplayalım\n",
    "\n",
    "v = np.array([1,2,3])  # v'nin boyutu (3,)\n",
    "w = np.array([4,5])    # w'nin boyutu (2,)\n",
    "\n",
    "# Vektörel çarpımı yapmak için v'yi sütun vektörü haline getirmemiz gerekir\n",
    "# Sütun vektörü yaptıktan sonra broadcasting uygulayabiliriz\n",
    "# Çıktı matrisinin boyutu (3,2) olacak\n",
    "\n",
    "print (np.reshape(v, (3, 1)) * w)"
   ]
  },
  {
   "cell_type": "code",
   "execution_count": 136,
   "metadata": {
    "colab": {},
    "colab_type": "code",
    "id": "RXudDJUa67-0",
    "outputId": "3d8d58d3-7b4a-4a76-af6a-53c5132fe998"
   },
   "outputs": [
    {
     "name": "stdout",
     "output_type": "stream",
     "text": [
      "[[2 4 6]\n",
      " [5 7 9]]\n"
     ]
    }
   ],
   "source": [
    "# Matrisin her satırına vektör ekleyelim\n",
    "x = np.array([[1,2,3], [4,5,6]])\n",
    "# x'in boyutu (2, 3) ve v'nin boyutu (3,) \n",
    "# (2, 3) boyutunda bir matris verecek şekilde broadcasting yapalım\n",
    "\n",
    "print (x + v)"
   ]
  },
  {
   "cell_type": "code",
   "execution_count": 137,
   "metadata": {
    "colab": {},
    "colab_type": "code",
    "id": "nIfaU5Bh67-2",
    "outputId": "f452a3f0-2dab-4aaf-a866-942354845c83"
   },
   "outputs": [
    {
     "name": "stdout",
     "output_type": "stream",
     "text": [
      "[[ 5  6  7]\n",
      " [ 9 10 11]]\n",
      "(2, 3)\n"
     ]
    }
   ],
   "source": [
    "# Matrisin her sütununa vektör ekleyelim\n",
    "# x'in boyutu (2, 3) ve w'nin boyutu (2,).\n",
    "# Transpozunu alırsak x'in yeni boyutu (3, 2) olur\n",
    "# (3, 2) ile (2,) broadcasting işlemi sonucunda (3, 2) boyutlu matris oluşturur.\n",
    "# Sonucun transpozunu alırız.\n",
    "\n",
    "sonuc = (x.T + w).T\n",
    "\n",
    "print (sonuc)\n",
    "print(sonuc.shape)"
   ]
  },
  {
   "cell_type": "code",
   "execution_count": 138,
   "metadata": {
    "colab": {},
    "colab_type": "code",
    "id": "joch7WTf67-4",
    "outputId": "12bcb3a1-f8dd-4c46-afc9-1432113192a7"
   },
   "outputs": [
    {
     "name": "stdout",
     "output_type": "stream",
     "text": [
      "[[ 5  6  7]\n",
      " [ 9 10 11]]\n"
     ]
    }
   ],
   "source": [
    "# Bir diğer yöntem de w'yi sütun vektörü haline getirmektir.\n",
    "\n",
    "sonuc = x + np.reshape(w, (2, 1)) \n",
    "\n",
    "print (sonuc)"
   ]
  },
  {
   "cell_type": "markdown",
   "metadata": {},
   "source": [
    "(2, 3) boyutundaki `x` matrisi sabit bir sayıyla (örneğin 2) çarparsak yine (2, 3) boyutunda bir matris elde ederiz. Sabit sayıların boyutu () olarak tanımlıdır."
   ]
  },
  {
   "cell_type": "code",
   "execution_count": 139,
   "metadata": {
    "colab": {},
    "colab_type": "code",
    "id": "U5W1SnSz67-5",
    "outputId": "7a42d2bf-d7f3-498d-d598-248ab97a6eb4"
   },
   "outputs": [
    {
     "name": "stdout",
     "output_type": "stream",
     "text": [
      "[[ 2  4  6]\n",
      " [ 8 10 12]]\n"
     ]
    }
   ],
   "source": [
    "print (x * 2)"
   ]
  },
  {
   "cell_type": "markdown",
   "metadata": {
    "colab_type": "text",
    "id": "fWif8jh967-7"
   },
   "source": [
    "`broadcasting`, `for` döngüsünden kurtardığı gibi kodun daha hızlı çalışmasını sağlar. Daha fazla bilgi için [dokümana](https://docs.scipy.org/doc/numpy/user/basics.broadcasting.html) bakabilirsiniz."
   ]
  },
  {
   "cell_type": "markdown",
   "metadata": {
    "colab_type": "text",
    "id": "0C-lKRNi67-7"
   },
   "source": [
    "Numpy'la ilgili daha fazla bilgi için [dokümanına](http://docs.scipy.org/doc/numpy/reference/) bakabilirsiniz."
   ]
  },
  {
   "cell_type": "markdown",
   "metadata": {},
   "source": [
    "## Pandas"
   ]
  },
  {
   "cell_type": "code",
   "execution_count": 140,
   "metadata": {},
   "outputs": [],
   "source": [
    "import pandas as pd"
   ]
  },
  {
   "cell_type": "markdown",
   "metadata": {},
   "source": [
    "Bir Python sözlüğünde kalori cetveli tanımlayalım."
   ]
  },
  {
   "cell_type": "code",
   "execution_count": 141,
   "metadata": {},
   "outputs": [],
   "source": [
    "KALORI_CETVELI = {\"YIYECEK\": ['BAL','CEVIZ','NOHUT', 'SUCUK', 'BIFTEK', 'TAVUK'],\n",
    "                  \"MIKTAR\": [5,100,5,24,100,100],\n",
    "                  \"KALORI\": [15,651,360,108,156,215]}"
   ]
  },
  {
   "cell_type": "markdown",
   "metadata": {},
   "source": [
    "Sözlüğü Pandas `DataFrame`'ine çevirelim."
   ]
  },
  {
   "cell_type": "code",
   "execution_count": 142,
   "metadata": {},
   "outputs": [
    {
     "data": {
      "text/html": [
       "<div>\n",
       "<style scoped>\n",
       "    .dataframe tbody tr th:only-of-type {\n",
       "        vertical-align: middle;\n",
       "    }\n",
       "\n",
       "    .dataframe tbody tr th {\n",
       "        vertical-align: top;\n",
       "    }\n",
       "\n",
       "    .dataframe thead th {\n",
       "        text-align: right;\n",
       "    }\n",
       "</style>\n",
       "<table border=\"1\" class=\"dataframe\">\n",
       "  <thead>\n",
       "    <tr style=\"text-align: right;\">\n",
       "      <th></th>\n",
       "      <th>KALORI</th>\n",
       "      <th>MIKTAR</th>\n",
       "      <th>YIYECEK</th>\n",
       "    </tr>\n",
       "  </thead>\n",
       "  <tbody>\n",
       "    <tr>\n",
       "      <th>0</th>\n",
       "      <td>15</td>\n",
       "      <td>5</td>\n",
       "      <td>BAL</td>\n",
       "    </tr>\n",
       "    <tr>\n",
       "      <th>1</th>\n",
       "      <td>651</td>\n",
       "      <td>100</td>\n",
       "      <td>CEVIZ</td>\n",
       "    </tr>\n",
       "    <tr>\n",
       "      <th>2</th>\n",
       "      <td>360</td>\n",
       "      <td>5</td>\n",
       "      <td>NOHUT</td>\n",
       "    </tr>\n",
       "    <tr>\n",
       "      <th>3</th>\n",
       "      <td>108</td>\n",
       "      <td>24</td>\n",
       "      <td>SUCUK</td>\n",
       "    </tr>\n",
       "    <tr>\n",
       "      <th>4</th>\n",
       "      <td>156</td>\n",
       "      <td>100</td>\n",
       "      <td>BIFTEK</td>\n",
       "    </tr>\n",
       "    <tr>\n",
       "      <th>5</th>\n",
       "      <td>215</td>\n",
       "      <td>100</td>\n",
       "      <td>TAVUK</td>\n",
       "    </tr>\n",
       "  </tbody>\n",
       "</table>\n",
       "</div>"
      ],
      "text/plain": [
       "   KALORI  MIKTAR YIYECEK\n",
       "0      15       5     BAL\n",
       "1     651     100   CEVIZ\n",
       "2     360       5   NOHUT\n",
       "3     108      24   SUCUK\n",
       "4     156     100  BIFTEK\n",
       "5     215     100   TAVUK"
      ]
     },
     "execution_count": 142,
     "metadata": {},
     "output_type": "execute_result"
    }
   ],
   "source": [
    "KALORI_CETVELI_DF = pd.DataFrame(KALORI_CETVELI)\n",
    "\n",
    "KALORI_CETVELI_DF"
   ]
  },
  {
   "cell_type": "markdown",
   "metadata": {},
   "source": [
    "İlk 5 değeri görelim."
   ]
  },
  {
   "cell_type": "code",
   "execution_count": 143,
   "metadata": {},
   "outputs": [
    {
     "data": {
      "text/html": [
       "<div>\n",
       "<style scoped>\n",
       "    .dataframe tbody tr th:only-of-type {\n",
       "        vertical-align: middle;\n",
       "    }\n",
       "\n",
       "    .dataframe tbody tr th {\n",
       "        vertical-align: top;\n",
       "    }\n",
       "\n",
       "    .dataframe thead th {\n",
       "        text-align: right;\n",
       "    }\n",
       "</style>\n",
       "<table border=\"1\" class=\"dataframe\">\n",
       "  <thead>\n",
       "    <tr style=\"text-align: right;\">\n",
       "      <th></th>\n",
       "      <th>KALORI</th>\n",
       "      <th>MIKTAR</th>\n",
       "      <th>YIYECEK</th>\n",
       "    </tr>\n",
       "  </thead>\n",
       "  <tbody>\n",
       "    <tr>\n",
       "      <th>0</th>\n",
       "      <td>15</td>\n",
       "      <td>5</td>\n",
       "      <td>BAL</td>\n",
       "    </tr>\n",
       "    <tr>\n",
       "      <th>1</th>\n",
       "      <td>651</td>\n",
       "      <td>100</td>\n",
       "      <td>CEVIZ</td>\n",
       "    </tr>\n",
       "    <tr>\n",
       "      <th>2</th>\n",
       "      <td>360</td>\n",
       "      <td>5</td>\n",
       "      <td>NOHUT</td>\n",
       "    </tr>\n",
       "    <tr>\n",
       "      <th>3</th>\n",
       "      <td>108</td>\n",
       "      <td>24</td>\n",
       "      <td>SUCUK</td>\n",
       "    </tr>\n",
       "    <tr>\n",
       "      <th>4</th>\n",
       "      <td>156</td>\n",
       "      <td>100</td>\n",
       "      <td>BIFTEK</td>\n",
       "    </tr>\n",
       "  </tbody>\n",
       "</table>\n",
       "</div>"
      ],
      "text/plain": [
       "   KALORI  MIKTAR YIYECEK\n",
       "0      15       5     BAL\n",
       "1     651     100   CEVIZ\n",
       "2     360       5   NOHUT\n",
       "3     108      24   SUCUK\n",
       "4     156     100  BIFTEK"
      ]
     },
     "execution_count": 143,
     "metadata": {},
     "output_type": "execute_result"
    }
   ],
   "source": [
    "KALORI_CETVELI_DF.head()"
   ]
  },
  {
   "cell_type": "markdown",
   "metadata": {},
   "source": [
    "İlk 3 değeri görelim."
   ]
  },
  {
   "cell_type": "code",
   "execution_count": 144,
   "metadata": {},
   "outputs": [
    {
     "data": {
      "text/html": [
       "<div>\n",
       "<style scoped>\n",
       "    .dataframe tbody tr th:only-of-type {\n",
       "        vertical-align: middle;\n",
       "    }\n",
       "\n",
       "    .dataframe tbody tr th {\n",
       "        vertical-align: top;\n",
       "    }\n",
       "\n",
       "    .dataframe thead th {\n",
       "        text-align: right;\n",
       "    }\n",
       "</style>\n",
       "<table border=\"1\" class=\"dataframe\">\n",
       "  <thead>\n",
       "    <tr style=\"text-align: right;\">\n",
       "      <th></th>\n",
       "      <th>KALORI</th>\n",
       "      <th>MIKTAR</th>\n",
       "      <th>YIYECEK</th>\n",
       "    </tr>\n",
       "  </thead>\n",
       "  <tbody>\n",
       "    <tr>\n",
       "      <th>0</th>\n",
       "      <td>15</td>\n",
       "      <td>5</td>\n",
       "      <td>BAL</td>\n",
       "    </tr>\n",
       "    <tr>\n",
       "      <th>1</th>\n",
       "      <td>651</td>\n",
       "      <td>100</td>\n",
       "      <td>CEVIZ</td>\n",
       "    </tr>\n",
       "    <tr>\n",
       "      <th>2</th>\n",
       "      <td>360</td>\n",
       "      <td>5</td>\n",
       "      <td>NOHUT</td>\n",
       "    </tr>\n",
       "  </tbody>\n",
       "</table>\n",
       "</div>"
      ],
      "text/plain": [
       "   KALORI  MIKTAR YIYECEK\n",
       "0      15       5     BAL\n",
       "1     651     100   CEVIZ\n",
       "2     360       5   NOHUT"
      ]
     },
     "execution_count": 144,
     "metadata": {},
     "output_type": "execute_result"
    }
   ],
   "source": [
    "KALORI_CETVELI_DF.head(3)"
   ]
  },
  {
   "cell_type": "markdown",
   "metadata": {},
   "source": [
    "Son 3 değeri görelim."
   ]
  },
  {
   "cell_type": "code",
   "execution_count": 145,
   "metadata": {},
   "outputs": [
    {
     "data": {
      "text/html": [
       "<div>\n",
       "<style scoped>\n",
       "    .dataframe tbody tr th:only-of-type {\n",
       "        vertical-align: middle;\n",
       "    }\n",
       "\n",
       "    .dataframe tbody tr th {\n",
       "        vertical-align: top;\n",
       "    }\n",
       "\n",
       "    .dataframe thead th {\n",
       "        text-align: right;\n",
       "    }\n",
       "</style>\n",
       "<table border=\"1\" class=\"dataframe\">\n",
       "  <thead>\n",
       "    <tr style=\"text-align: right;\">\n",
       "      <th></th>\n",
       "      <th>KALORI</th>\n",
       "      <th>MIKTAR</th>\n",
       "      <th>YIYECEK</th>\n",
       "    </tr>\n",
       "  </thead>\n",
       "  <tbody>\n",
       "    <tr>\n",
       "      <th>3</th>\n",
       "      <td>108</td>\n",
       "      <td>24</td>\n",
       "      <td>SUCUK</td>\n",
       "    </tr>\n",
       "    <tr>\n",
       "      <th>4</th>\n",
       "      <td>156</td>\n",
       "      <td>100</td>\n",
       "      <td>BIFTEK</td>\n",
       "    </tr>\n",
       "    <tr>\n",
       "      <th>5</th>\n",
       "      <td>215</td>\n",
       "      <td>100</td>\n",
       "      <td>TAVUK</td>\n",
       "    </tr>\n",
       "  </tbody>\n",
       "</table>\n",
       "</div>"
      ],
      "text/plain": [
       "   KALORI  MIKTAR YIYECEK\n",
       "3     108      24   SUCUK\n",
       "4     156     100  BIFTEK\n",
       "5     215     100   TAVUK"
      ]
     },
     "execution_count": 145,
     "metadata": {},
     "output_type": "execute_result"
    }
   ],
   "source": [
    "KALORI_CETVELI_DF.tail(3)"
   ]
  },
  {
   "cell_type": "markdown",
   "metadata": {},
   "source": [
    "Aynı zamanda özniteliklerimiz olan sütun adlarını görelim."
   ]
  },
  {
   "cell_type": "code",
   "execution_count": 146,
   "metadata": {},
   "outputs": [
    {
     "data": {
      "text/plain": [
       "Index(['KALORI', 'MIKTAR', 'YIYECEK'], dtype='object')"
      ]
     },
     "execution_count": 146,
     "metadata": {},
     "output_type": "execute_result"
    }
   ],
   "source": [
    "KALORI_CETVELI_DF.columns"
   ]
  },
  {
   "cell_type": "markdown",
   "metadata": {},
   "source": [
    "Temel bilgileri görelim."
   ]
  },
  {
   "cell_type": "code",
   "execution_count": 147,
   "metadata": {},
   "outputs": [
    {
     "name": "stdout",
     "output_type": "stream",
     "text": [
      "<class 'pandas.core.frame.DataFrame'>\n",
      "RangeIndex: 6 entries, 0 to 5\n",
      "Data columns (total 3 columns):\n",
      "KALORI     6 non-null int64\n",
      "MIKTAR     6 non-null int64\n",
      "YIYECEK    6 non-null object\n",
      "dtypes: int64(2), object(1)\n",
      "memory usage: 224.0+ bytes\n"
     ]
    }
   ],
   "source": [
    "KALORI_CETVELI_DF.info()"
   ]
  },
  {
   "cell_type": "markdown",
   "metadata": {},
   "source": [
    "İstatistiksel bazı bilgileri görelim"
   ]
  },
  {
   "cell_type": "code",
   "execution_count": 148,
   "metadata": {},
   "outputs": [
    {
     "data": {
      "text/html": [
       "<div>\n",
       "<style scoped>\n",
       "    .dataframe tbody tr th:only-of-type {\n",
       "        vertical-align: middle;\n",
       "    }\n",
       "\n",
       "    .dataframe tbody tr th {\n",
       "        vertical-align: top;\n",
       "    }\n",
       "\n",
       "    .dataframe thead th {\n",
       "        text-align: right;\n",
       "    }\n",
       "</style>\n",
       "<table border=\"1\" class=\"dataframe\">\n",
       "  <thead>\n",
       "    <tr style=\"text-align: right;\">\n",
       "      <th></th>\n",
       "      <th>KALORI</th>\n",
       "      <th>MIKTAR</th>\n",
       "    </tr>\n",
       "  </thead>\n",
       "  <tbody>\n",
       "    <tr>\n",
       "      <th>count</th>\n",
       "      <td>6.000000</td>\n",
       "      <td>6.000000</td>\n",
       "    </tr>\n",
       "    <tr>\n",
       "      <th>mean</th>\n",
       "      <td>250.833333</td>\n",
       "      <td>55.666667</td>\n",
       "    </tr>\n",
       "    <tr>\n",
       "      <th>std</th>\n",
       "      <td>227.308967</td>\n",
       "      <td>49.057789</td>\n",
       "    </tr>\n",
       "    <tr>\n",
       "      <th>min</th>\n",
       "      <td>15.000000</td>\n",
       "      <td>5.000000</td>\n",
       "    </tr>\n",
       "    <tr>\n",
       "      <th>25%</th>\n",
       "      <td>120.000000</td>\n",
       "      <td>9.750000</td>\n",
       "    </tr>\n",
       "    <tr>\n",
       "      <th>50%</th>\n",
       "      <td>185.500000</td>\n",
       "      <td>62.000000</td>\n",
       "    </tr>\n",
       "    <tr>\n",
       "      <th>75%</th>\n",
       "      <td>323.750000</td>\n",
       "      <td>100.000000</td>\n",
       "    </tr>\n",
       "    <tr>\n",
       "      <th>max</th>\n",
       "      <td>651.000000</td>\n",
       "      <td>100.000000</td>\n",
       "    </tr>\n",
       "  </tbody>\n",
       "</table>\n",
       "</div>"
      ],
      "text/plain": [
       "           KALORI      MIKTAR\n",
       "count    6.000000    6.000000\n",
       "mean   250.833333   55.666667\n",
       "std    227.308967   49.057789\n",
       "min     15.000000    5.000000\n",
       "25%    120.000000    9.750000\n",
       "50%    185.500000   62.000000\n",
       "75%    323.750000  100.000000\n",
       "max    651.000000  100.000000"
      ]
     },
     "execution_count": 148,
     "metadata": {},
     "output_type": "execute_result"
    }
   ],
   "source": [
    "KALORI_CETVELI_DF.describe()"
   ]
  },
  {
   "cell_type": "markdown",
   "metadata": {},
   "source": [
    "Veri tiplerini görelim."
   ]
  },
  {
   "cell_type": "code",
   "execution_count": 149,
   "metadata": {},
   "outputs": [
    {
     "data": {
      "text/plain": [
       "KALORI      int64\n",
       "MIKTAR      int64\n",
       "YIYECEK    object\n",
       "dtype: object"
      ]
     },
     "execution_count": 149,
     "metadata": {},
     "output_type": "execute_result"
    }
   ],
   "source": [
    "KALORI_CETVELI_DF.dtypes"
   ]
  },
  {
   "cell_type": "markdown",
   "metadata": {},
   "source": [
    "`YIYECEK` başlıklı sütunda yer alan değerleri görelim."
   ]
  },
  {
   "cell_type": "code",
   "execution_count": 150,
   "metadata": {},
   "outputs": [
    {
     "data": {
      "text/plain": [
       "0       BAL\n",
       "1     CEVIZ\n",
       "2     NOHUT\n",
       "3     SUCUK\n",
       "4    BIFTEK\n",
       "5     TAVUK\n",
       "Name: YIYECEK, dtype: object"
      ]
     },
     "execution_count": 150,
     "metadata": {},
     "output_type": "execute_result"
    }
   ],
   "source": [
    "KALORI_CETVELI_DF['YIYECEK']"
   ]
  },
  {
   "cell_type": "markdown",
   "metadata": {},
   "source": [
    "`YIYECEK` başlıklı sütunda yer alan değerleri bu şekilde de görebiliriz."
   ]
  },
  {
   "cell_type": "code",
   "execution_count": 151,
   "metadata": {},
   "outputs": [
    {
     "data": {
      "text/plain": [
       "0       BAL\n",
       "1     CEVIZ\n",
       "2     NOHUT\n",
       "3     SUCUK\n",
       "4    BIFTEK\n",
       "5     TAVUK\n",
       "Name: YIYECEK, dtype: object"
      ]
     },
     "execution_count": 151,
     "metadata": {},
     "output_type": "execute_result"
    }
   ],
   "source": [
    "KALORI_CETVELI_DF.YIYECEK"
   ]
  },
  {
   "cell_type": "markdown",
   "metadata": {},
   "source": [
    "`YIYECEK` ve `KALORI` sütunlarının tüm satırlarını görelim."
   ]
  },
  {
   "cell_type": "code",
   "execution_count": 152,
   "metadata": {},
   "outputs": [
    {
     "data": {
      "text/html": [
       "<div>\n",
       "<style scoped>\n",
       "    .dataframe tbody tr th:only-of-type {\n",
       "        vertical-align: middle;\n",
       "    }\n",
       "\n",
       "    .dataframe tbody tr th {\n",
       "        vertical-align: top;\n",
       "    }\n",
       "\n",
       "    .dataframe thead th {\n",
       "        text-align: right;\n",
       "    }\n",
       "</style>\n",
       "<table border=\"1\" class=\"dataframe\">\n",
       "  <thead>\n",
       "    <tr style=\"text-align: right;\">\n",
       "      <th></th>\n",
       "      <th>YIYECEK</th>\n",
       "      <th>KALORI</th>\n",
       "    </tr>\n",
       "  </thead>\n",
       "  <tbody>\n",
       "    <tr>\n",
       "      <th>0</th>\n",
       "      <td>BAL</td>\n",
       "      <td>15</td>\n",
       "    </tr>\n",
       "    <tr>\n",
       "      <th>1</th>\n",
       "      <td>CEVIZ</td>\n",
       "      <td>651</td>\n",
       "    </tr>\n",
       "    <tr>\n",
       "      <th>2</th>\n",
       "      <td>NOHUT</td>\n",
       "      <td>360</td>\n",
       "    </tr>\n",
       "    <tr>\n",
       "      <th>3</th>\n",
       "      <td>SUCUK</td>\n",
       "      <td>108</td>\n",
       "    </tr>\n",
       "    <tr>\n",
       "      <th>4</th>\n",
       "      <td>BIFTEK</td>\n",
       "      <td>156</td>\n",
       "    </tr>\n",
       "    <tr>\n",
       "      <th>5</th>\n",
       "      <td>TAVUK</td>\n",
       "      <td>215</td>\n",
       "    </tr>\n",
       "  </tbody>\n",
       "</table>\n",
       "</div>"
      ],
      "text/plain": [
       "  YIYECEK  KALORI\n",
       "0     BAL      15\n",
       "1   CEVIZ     651\n",
       "2   NOHUT     360\n",
       "3   SUCUK     108\n",
       "4  BIFTEK     156\n",
       "5   TAVUK     215"
      ]
     },
     "execution_count": 152,
     "metadata": {},
     "output_type": "execute_result"
    }
   ],
   "source": [
    "KALORI_CETVELI_DF.loc[:,['YIYECEK', 'KALORI']]"
   ]
  },
  {
   "cell_type": "markdown",
   "metadata": {},
   "source": [
    "`YIYECEK` ve `KALORI` sütunlarının ilk üç satırını görelim."
   ]
  },
  {
   "cell_type": "code",
   "execution_count": 153,
   "metadata": {},
   "outputs": [
    {
     "data": {
      "text/html": [
       "<div>\n",
       "<style scoped>\n",
       "    .dataframe tbody tr th:only-of-type {\n",
       "        vertical-align: middle;\n",
       "    }\n",
       "\n",
       "    .dataframe tbody tr th {\n",
       "        vertical-align: top;\n",
       "    }\n",
       "\n",
       "    .dataframe thead th {\n",
       "        text-align: right;\n",
       "    }\n",
       "</style>\n",
       "<table border=\"1\" class=\"dataframe\">\n",
       "  <thead>\n",
       "    <tr style=\"text-align: right;\">\n",
       "      <th></th>\n",
       "      <th>YIYECEK</th>\n",
       "      <th>KALORI</th>\n",
       "    </tr>\n",
       "  </thead>\n",
       "  <tbody>\n",
       "    <tr>\n",
       "      <th>0</th>\n",
       "      <td>BAL</td>\n",
       "      <td>15</td>\n",
       "    </tr>\n",
       "    <tr>\n",
       "      <th>1</th>\n",
       "      <td>CEVIZ</td>\n",
       "      <td>651</td>\n",
       "    </tr>\n",
       "    <tr>\n",
       "      <th>2</th>\n",
       "      <td>NOHUT</td>\n",
       "      <td>360</td>\n",
       "    </tr>\n",
       "  </tbody>\n",
       "</table>\n",
       "</div>"
      ],
      "text/plain": [
       "  YIYECEK  KALORI\n",
       "0     BAL      15\n",
       "1   CEVIZ     651\n",
       "2   NOHUT     360"
      ]
     },
     "execution_count": 153,
     "metadata": {},
     "output_type": "execute_result"
    }
   ],
   "source": [
    "KALORI_CETVELI_DF.loc[:2,['YIYECEK', 'KALORI']]"
   ]
  },
  {
   "cell_type": "markdown",
   "metadata": {},
   "source": [
    "`KALORI`değeri 200'den fazla olanları görelim"
   ]
  },
  {
   "cell_type": "code",
   "execution_count": 154,
   "metadata": {},
   "outputs": [
    {
     "data": {
      "text/html": [
       "<div>\n",
       "<style scoped>\n",
       "    .dataframe tbody tr th:only-of-type {\n",
       "        vertical-align: middle;\n",
       "    }\n",
       "\n",
       "    .dataframe tbody tr th {\n",
       "        vertical-align: top;\n",
       "    }\n",
       "\n",
       "    .dataframe thead th {\n",
       "        text-align: right;\n",
       "    }\n",
       "</style>\n",
       "<table border=\"1\" class=\"dataframe\">\n",
       "  <thead>\n",
       "    <tr style=\"text-align: right;\">\n",
       "      <th></th>\n",
       "      <th>KALORI</th>\n",
       "      <th>MIKTAR</th>\n",
       "      <th>YIYECEK</th>\n",
       "    </tr>\n",
       "  </thead>\n",
       "  <tbody>\n",
       "    <tr>\n",
       "      <th>1</th>\n",
       "      <td>651</td>\n",
       "      <td>100</td>\n",
       "      <td>CEVIZ</td>\n",
       "    </tr>\n",
       "    <tr>\n",
       "      <th>2</th>\n",
       "      <td>360</td>\n",
       "      <td>5</td>\n",
       "      <td>NOHUT</td>\n",
       "    </tr>\n",
       "    <tr>\n",
       "      <th>5</th>\n",
       "      <td>215</td>\n",
       "      <td>100</td>\n",
       "      <td>TAVUK</td>\n",
       "    </tr>\n",
       "  </tbody>\n",
       "</table>\n",
       "</div>"
      ],
      "text/plain": [
       "   KALORI  MIKTAR YIYECEK\n",
       "1     651     100   CEVIZ\n",
       "2     360       5   NOHUT\n",
       "5     215     100   TAVUK"
      ]
     },
     "execution_count": 154,
     "metadata": {},
     "output_type": "execute_result"
    }
   ],
   "source": [
    "KALORI_CETVELI_DF[KALORI_CETVELI_DF.KALORI>200]"
   ]
  },
  {
   "cell_type": "markdown",
   "metadata": {},
   "source": [
    "`KALORI`si 200'den ve `MIKTAR`ı 50'den fazla olanlar için iki adet filtre oluşturalım."
   ]
  },
  {
   "cell_type": "code",
   "execution_count": 155,
   "metadata": {},
   "outputs": [],
   "source": [
    "filtre1 = KALORI_CETVELI_DF.KALORI > 200\n",
    "filtre2 = KALORI_CETVELI_DF.MIKTAR > 50 "
   ]
  },
  {
   "cell_type": "markdown",
   "metadata": {},
   "source": [
    "Filtreleri uygulayalım."
   ]
  },
  {
   "cell_type": "code",
   "execution_count": 156,
   "metadata": {},
   "outputs": [
    {
     "data": {
      "text/html": [
       "<div>\n",
       "<style scoped>\n",
       "    .dataframe tbody tr th:only-of-type {\n",
       "        vertical-align: middle;\n",
       "    }\n",
       "\n",
       "    .dataframe tbody tr th {\n",
       "        vertical-align: top;\n",
       "    }\n",
       "\n",
       "    .dataframe thead th {\n",
       "        text-align: right;\n",
       "    }\n",
       "</style>\n",
       "<table border=\"1\" class=\"dataframe\">\n",
       "  <thead>\n",
       "    <tr style=\"text-align: right;\">\n",
       "      <th></th>\n",
       "      <th>KALORI</th>\n",
       "      <th>MIKTAR</th>\n",
       "      <th>YIYECEK</th>\n",
       "    </tr>\n",
       "  </thead>\n",
       "  <tbody>\n",
       "    <tr>\n",
       "      <th>1</th>\n",
       "      <td>651</td>\n",
       "      <td>100</td>\n",
       "      <td>CEVIZ</td>\n",
       "    </tr>\n",
       "    <tr>\n",
       "      <th>5</th>\n",
       "      <td>215</td>\n",
       "      <td>100</td>\n",
       "      <td>TAVUK</td>\n",
       "    </tr>\n",
       "  </tbody>\n",
       "</table>\n",
       "</div>"
      ],
      "text/plain": [
       "   KALORI  MIKTAR YIYECEK\n",
       "1     651     100   CEVIZ\n",
       "5     215     100   TAVUK"
      ]
     },
     "execution_count": 156,
     "metadata": {},
     "output_type": "execute_result"
    }
   ],
   "source": [
    "KALORI_CETVELI_DF[filtre1 & filtre2]"
   ]
  },
  {
   "cell_type": "markdown",
   "metadata": {},
   "source": [
    "Kalori ortalamasını görelim."
   ]
  },
  {
   "cell_type": "code",
   "execution_count": 157,
   "metadata": {},
   "outputs": [
    {
     "data": {
      "text/plain": [
       "250.83333333333334"
      ]
     },
     "execution_count": 157,
     "metadata": {},
     "output_type": "execute_result"
    }
   ],
   "source": [
    "KALORI_CETVELI_DF.KALORI.mean()"
   ]
  },
  {
   "cell_type": "markdown",
   "metadata": {},
   "source": [
    "Ortalamayı Numpy'da yer alan `np.mean()` ile de bulabiliriz."
   ]
  },
  {
   "cell_type": "code",
   "execution_count": 158,
   "metadata": {},
   "outputs": [
    {
     "data": {
      "text/plain": [
       "250.83333333333334"
      ]
     },
     "execution_count": 158,
     "metadata": {},
     "output_type": "execute_result"
    }
   ],
   "source": [
    "np.mean(KALORI_CETVELI_DF.KALORI)"
   ]
  },
  {
   "cell_type": "markdown",
   "metadata": {},
   "source": [
    "`KALORI_SEVIYESI` adında yeni bir sütun açalım ve yiyeceğin kalorisi 200'den küçük ise `NORMAL` diğer durumlarda `YUKSEK` olacak şeklinde değerler atayalım."
   ]
  },
  {
   "cell_type": "code",
   "execution_count": 159,
   "metadata": {},
   "outputs": [
    {
     "data": {
      "text/html": [
       "<div>\n",
       "<style scoped>\n",
       "    .dataframe tbody tr th:only-of-type {\n",
       "        vertical-align: middle;\n",
       "    }\n",
       "\n",
       "    .dataframe tbody tr th {\n",
       "        vertical-align: top;\n",
       "    }\n",
       "\n",
       "    .dataframe thead th {\n",
       "        text-align: right;\n",
       "    }\n",
       "</style>\n",
       "<table border=\"1\" class=\"dataframe\">\n",
       "  <thead>\n",
       "    <tr style=\"text-align: right;\">\n",
       "      <th></th>\n",
       "      <th>KALORI</th>\n",
       "      <th>MIKTAR</th>\n",
       "      <th>YIYECEK</th>\n",
       "      <th>KALORI_SEVIYESI</th>\n",
       "    </tr>\n",
       "  </thead>\n",
       "  <tbody>\n",
       "    <tr>\n",
       "      <th>0</th>\n",
       "      <td>15</td>\n",
       "      <td>5</td>\n",
       "      <td>BAL</td>\n",
       "      <td>NORMAL</td>\n",
       "    </tr>\n",
       "    <tr>\n",
       "      <th>1</th>\n",
       "      <td>651</td>\n",
       "      <td>100</td>\n",
       "      <td>CEVIZ</td>\n",
       "      <td>YUKSEK</td>\n",
       "    </tr>\n",
       "    <tr>\n",
       "      <th>2</th>\n",
       "      <td>360</td>\n",
       "      <td>5</td>\n",
       "      <td>NOHUT</td>\n",
       "      <td>YUKSEK</td>\n",
       "    </tr>\n",
       "    <tr>\n",
       "      <th>3</th>\n",
       "      <td>108</td>\n",
       "      <td>24</td>\n",
       "      <td>SUCUK</td>\n",
       "      <td>NORMAL</td>\n",
       "    </tr>\n",
       "    <tr>\n",
       "      <th>4</th>\n",
       "      <td>156</td>\n",
       "      <td>100</td>\n",
       "      <td>BIFTEK</td>\n",
       "      <td>NORMAL</td>\n",
       "    </tr>\n",
       "    <tr>\n",
       "      <th>5</th>\n",
       "      <td>215</td>\n",
       "      <td>100</td>\n",
       "      <td>TAVUK</td>\n",
       "      <td>YUKSEK</td>\n",
       "    </tr>\n",
       "  </tbody>\n",
       "</table>\n",
       "</div>"
      ],
      "text/plain": [
       "   KALORI  MIKTAR YIYECEK KALORI_SEVIYESI\n",
       "0      15       5     BAL          NORMAL\n",
       "1     651     100   CEVIZ          YUKSEK\n",
       "2     360       5   NOHUT          YUKSEK\n",
       "3     108      24   SUCUK          NORMAL\n",
       "4     156     100  BIFTEK          NORMAL\n",
       "5     215     100   TAVUK          YUKSEK"
      ]
     },
     "execution_count": 159,
     "metadata": {},
     "output_type": "execute_result"
    }
   ],
   "source": [
    "KALORI_CETVELI_DF['KALORI_SEVIYESI'] = ['NORMAL' if kalori < 200 else 'YUKSEK' for kalori in KALORI_CETVELI_DF.KALORI]\n",
    "KALORI_CETVELI_DF"
   ]
  },
  {
   "cell_type": "markdown",
   "metadata": {},
   "source": [
    "Sütun isimlerini **küçük harflerle** değiştirelim."
   ]
  },
  {
   "cell_type": "code",
   "execution_count": 160,
   "metadata": {},
   "outputs": [
    {
     "data": {
      "text/html": [
       "<div>\n",
       "<style scoped>\n",
       "    .dataframe tbody tr th:only-of-type {\n",
       "        vertical-align: middle;\n",
       "    }\n",
       "\n",
       "    .dataframe tbody tr th {\n",
       "        vertical-align: top;\n",
       "    }\n",
       "\n",
       "    .dataframe thead th {\n",
       "        text-align: right;\n",
       "    }\n",
       "</style>\n",
       "<table border=\"1\" class=\"dataframe\">\n",
       "  <thead>\n",
       "    <tr style=\"text-align: right;\">\n",
       "      <th></th>\n",
       "      <th>kalori</th>\n",
       "      <th>miktar</th>\n",
       "      <th>yiyecek</th>\n",
       "      <th>kalori_seviyesi</th>\n",
       "    </tr>\n",
       "  </thead>\n",
       "  <tbody>\n",
       "    <tr>\n",
       "      <th>0</th>\n",
       "      <td>15</td>\n",
       "      <td>5</td>\n",
       "      <td>BAL</td>\n",
       "      <td>NORMAL</td>\n",
       "    </tr>\n",
       "    <tr>\n",
       "      <th>1</th>\n",
       "      <td>651</td>\n",
       "      <td>100</td>\n",
       "      <td>CEVIZ</td>\n",
       "      <td>YUKSEK</td>\n",
       "    </tr>\n",
       "    <tr>\n",
       "      <th>2</th>\n",
       "      <td>360</td>\n",
       "      <td>5</td>\n",
       "      <td>NOHUT</td>\n",
       "      <td>YUKSEK</td>\n",
       "    </tr>\n",
       "    <tr>\n",
       "      <th>3</th>\n",
       "      <td>108</td>\n",
       "      <td>24</td>\n",
       "      <td>SUCUK</td>\n",
       "      <td>NORMAL</td>\n",
       "    </tr>\n",
       "    <tr>\n",
       "      <th>4</th>\n",
       "      <td>156</td>\n",
       "      <td>100</td>\n",
       "      <td>BIFTEK</td>\n",
       "      <td>NORMAL</td>\n",
       "    </tr>\n",
       "    <tr>\n",
       "      <th>5</th>\n",
       "      <td>215</td>\n",
       "      <td>100</td>\n",
       "      <td>TAVUK</td>\n",
       "      <td>YUKSEK</td>\n",
       "    </tr>\n",
       "  </tbody>\n",
       "</table>\n",
       "</div>"
      ],
      "text/plain": [
       "   kalori  miktar yiyecek kalori_seviyesi\n",
       "0      15       5     BAL          NORMAL\n",
       "1     651     100   CEVIZ          YUKSEK\n",
       "2     360       5   NOHUT          YUKSEK\n",
       "3     108      24   SUCUK          NORMAL\n",
       "4     156     100  BIFTEK          NORMAL\n",
       "5     215     100   TAVUK          YUKSEK"
      ]
     },
     "execution_count": 160,
     "metadata": {},
     "output_type": "execute_result"
    }
   ],
   "source": [
    "KALORI_CETVELI_DF.columns = [isim.lower() for isim in KALORI_CETVELI_DF.columns] \n",
    "KALORI_CETVELI_DF"
   ]
  },
  {
   "cell_type": "markdown",
   "metadata": {},
   "source": [
    "`kalori_seviyesi` sütununu **silelim**."
   ]
  },
  {
   "cell_type": "code",
   "execution_count": 161,
   "metadata": {},
   "outputs": [
    {
     "data": {
      "text/html": [
       "<div>\n",
       "<style scoped>\n",
       "    .dataframe tbody tr th:only-of-type {\n",
       "        vertical-align: middle;\n",
       "    }\n",
       "\n",
       "    .dataframe tbody tr th {\n",
       "        vertical-align: top;\n",
       "    }\n",
       "\n",
       "    .dataframe thead th {\n",
       "        text-align: right;\n",
       "    }\n",
       "</style>\n",
       "<table border=\"1\" class=\"dataframe\">\n",
       "  <thead>\n",
       "    <tr style=\"text-align: right;\">\n",
       "      <th></th>\n",
       "      <th>kalori</th>\n",
       "      <th>miktar</th>\n",
       "      <th>yiyecek</th>\n",
       "    </tr>\n",
       "  </thead>\n",
       "  <tbody>\n",
       "    <tr>\n",
       "      <th>0</th>\n",
       "      <td>15</td>\n",
       "      <td>5</td>\n",
       "      <td>BAL</td>\n",
       "    </tr>\n",
       "    <tr>\n",
       "      <th>1</th>\n",
       "      <td>651</td>\n",
       "      <td>100</td>\n",
       "      <td>CEVIZ</td>\n",
       "    </tr>\n",
       "    <tr>\n",
       "      <th>2</th>\n",
       "      <td>360</td>\n",
       "      <td>5</td>\n",
       "      <td>NOHUT</td>\n",
       "    </tr>\n",
       "    <tr>\n",
       "      <th>3</th>\n",
       "      <td>108</td>\n",
       "      <td>24</td>\n",
       "      <td>SUCUK</td>\n",
       "    </tr>\n",
       "    <tr>\n",
       "      <th>4</th>\n",
       "      <td>156</td>\n",
       "      <td>100</td>\n",
       "      <td>BIFTEK</td>\n",
       "    </tr>\n",
       "    <tr>\n",
       "      <th>5</th>\n",
       "      <td>215</td>\n",
       "      <td>100</td>\n",
       "      <td>TAVUK</td>\n",
       "    </tr>\n",
       "  </tbody>\n",
       "</table>\n",
       "</div>"
      ],
      "text/plain": [
       "   kalori  miktar yiyecek\n",
       "0      15       5     BAL\n",
       "1     651     100   CEVIZ\n",
       "2     360       5   NOHUT\n",
       "3     108      24   SUCUK\n",
       "4     156     100  BIFTEK\n",
       "5     215     100   TAVUK"
      ]
     },
     "execution_count": 161,
     "metadata": {},
     "output_type": "execute_result"
    }
   ],
   "source": [
    "KALORI_CETVELI_DF.drop(['kalori_seviyesi'], axis = 1, inplace = True)\n",
    "KALORI_CETVELI_DF"
   ]
  },
  {
   "cell_type": "markdown",
   "metadata": {},
   "source": [
    "`KALORI_CETVELI_DF` ile `KALORI_CETVELI_DF` alt alta birleştirelim."
   ]
  },
  {
   "cell_type": "code",
   "execution_count": 162,
   "metadata": {},
   "outputs": [
    {
     "data": {
      "text/html": [
       "<div>\n",
       "<style scoped>\n",
       "    .dataframe tbody tr th:only-of-type {\n",
       "        vertical-align: middle;\n",
       "    }\n",
       "\n",
       "    .dataframe tbody tr th {\n",
       "        vertical-align: top;\n",
       "    }\n",
       "\n",
       "    .dataframe thead th {\n",
       "        text-align: right;\n",
       "    }\n",
       "</style>\n",
       "<table border=\"1\" class=\"dataframe\">\n",
       "  <thead>\n",
       "    <tr style=\"text-align: right;\">\n",
       "      <th></th>\n",
       "      <th>kalori</th>\n",
       "      <th>miktar</th>\n",
       "      <th>yiyecek</th>\n",
       "    </tr>\n",
       "  </thead>\n",
       "  <tbody>\n",
       "    <tr>\n",
       "      <th>0</th>\n",
       "      <td>15</td>\n",
       "      <td>5</td>\n",
       "      <td>BAL</td>\n",
       "    </tr>\n",
       "    <tr>\n",
       "      <th>1</th>\n",
       "      <td>651</td>\n",
       "      <td>100</td>\n",
       "      <td>CEVIZ</td>\n",
       "    </tr>\n",
       "    <tr>\n",
       "      <th>2</th>\n",
       "      <td>360</td>\n",
       "      <td>5</td>\n",
       "      <td>NOHUT</td>\n",
       "    </tr>\n",
       "    <tr>\n",
       "      <th>3</th>\n",
       "      <td>108</td>\n",
       "      <td>24</td>\n",
       "      <td>SUCUK</td>\n",
       "    </tr>\n",
       "    <tr>\n",
       "      <th>4</th>\n",
       "      <td>156</td>\n",
       "      <td>100</td>\n",
       "      <td>BIFTEK</td>\n",
       "    </tr>\n",
       "    <tr>\n",
       "      <th>5</th>\n",
       "      <td>215</td>\n",
       "      <td>100</td>\n",
       "      <td>TAVUK</td>\n",
       "    </tr>\n",
       "    <tr>\n",
       "      <th>0</th>\n",
       "      <td>15</td>\n",
       "      <td>5</td>\n",
       "      <td>BAL</td>\n",
       "    </tr>\n",
       "    <tr>\n",
       "      <th>1</th>\n",
       "      <td>651</td>\n",
       "      <td>100</td>\n",
       "      <td>CEVIZ</td>\n",
       "    </tr>\n",
       "    <tr>\n",
       "      <th>2</th>\n",
       "      <td>360</td>\n",
       "      <td>5</td>\n",
       "      <td>NOHUT</td>\n",
       "    </tr>\n",
       "    <tr>\n",
       "      <th>3</th>\n",
       "      <td>108</td>\n",
       "      <td>24</td>\n",
       "      <td>SUCUK</td>\n",
       "    </tr>\n",
       "    <tr>\n",
       "      <th>4</th>\n",
       "      <td>156</td>\n",
       "      <td>100</td>\n",
       "      <td>BIFTEK</td>\n",
       "    </tr>\n",
       "    <tr>\n",
       "      <th>5</th>\n",
       "      <td>215</td>\n",
       "      <td>100</td>\n",
       "      <td>TAVUK</td>\n",
       "    </tr>\n",
       "  </tbody>\n",
       "</table>\n",
       "</div>"
      ],
      "text/plain": [
       "   kalori  miktar yiyecek\n",
       "0      15       5     BAL\n",
       "1     651     100   CEVIZ\n",
       "2     360       5   NOHUT\n",
       "3     108      24   SUCUK\n",
       "4     156     100  BIFTEK\n",
       "5     215     100   TAVUK\n",
       "0      15       5     BAL\n",
       "1     651     100   CEVIZ\n",
       "2     360       5   NOHUT\n",
       "3     108      24   SUCUK\n",
       "4     156     100  BIFTEK\n",
       "5     215     100   TAVUK"
      ]
     },
     "execution_count": 162,
     "metadata": {},
     "output_type": "execute_result"
    }
   ],
   "source": [
    "cift = pd.concat([KALORI_CETVELI_DF,KALORI_CETVELI_DF], axis = 0)\n",
    "cift"
   ]
  },
  {
   "cell_type": "markdown",
   "metadata": {},
   "source": [
    "index değerlerini sıfırlamak için `reset_index()` kullanabiliriz."
   ]
  },
  {
   "cell_type": "code",
   "execution_count": 163,
   "metadata": {},
   "outputs": [
    {
     "data": {
      "text/html": [
       "<div>\n",
       "<style scoped>\n",
       "    .dataframe tbody tr th:only-of-type {\n",
       "        vertical-align: middle;\n",
       "    }\n",
       "\n",
       "    .dataframe tbody tr th {\n",
       "        vertical-align: top;\n",
       "    }\n",
       "\n",
       "    .dataframe thead th {\n",
       "        text-align: right;\n",
       "    }\n",
       "</style>\n",
       "<table border=\"1\" class=\"dataframe\">\n",
       "  <thead>\n",
       "    <tr style=\"text-align: right;\">\n",
       "      <th></th>\n",
       "      <th>kalori</th>\n",
       "      <th>miktar</th>\n",
       "      <th>yiyecek</th>\n",
       "    </tr>\n",
       "  </thead>\n",
       "  <tbody>\n",
       "    <tr>\n",
       "      <th>0</th>\n",
       "      <td>15</td>\n",
       "      <td>5</td>\n",
       "      <td>BAL</td>\n",
       "    </tr>\n",
       "    <tr>\n",
       "      <th>1</th>\n",
       "      <td>651</td>\n",
       "      <td>100</td>\n",
       "      <td>CEVIZ</td>\n",
       "    </tr>\n",
       "    <tr>\n",
       "      <th>2</th>\n",
       "      <td>360</td>\n",
       "      <td>5</td>\n",
       "      <td>NOHUT</td>\n",
       "    </tr>\n",
       "    <tr>\n",
       "      <th>3</th>\n",
       "      <td>108</td>\n",
       "      <td>24</td>\n",
       "      <td>SUCUK</td>\n",
       "    </tr>\n",
       "    <tr>\n",
       "      <th>4</th>\n",
       "      <td>156</td>\n",
       "      <td>100</td>\n",
       "      <td>BIFTEK</td>\n",
       "    </tr>\n",
       "    <tr>\n",
       "      <th>5</th>\n",
       "      <td>215</td>\n",
       "      <td>100</td>\n",
       "      <td>TAVUK</td>\n",
       "    </tr>\n",
       "    <tr>\n",
       "      <th>6</th>\n",
       "      <td>15</td>\n",
       "      <td>5</td>\n",
       "      <td>BAL</td>\n",
       "    </tr>\n",
       "    <tr>\n",
       "      <th>7</th>\n",
       "      <td>651</td>\n",
       "      <td>100</td>\n",
       "      <td>CEVIZ</td>\n",
       "    </tr>\n",
       "    <tr>\n",
       "      <th>8</th>\n",
       "      <td>360</td>\n",
       "      <td>5</td>\n",
       "      <td>NOHUT</td>\n",
       "    </tr>\n",
       "    <tr>\n",
       "      <th>9</th>\n",
       "      <td>108</td>\n",
       "      <td>24</td>\n",
       "      <td>SUCUK</td>\n",
       "    </tr>\n",
       "    <tr>\n",
       "      <th>10</th>\n",
       "      <td>156</td>\n",
       "      <td>100</td>\n",
       "      <td>BIFTEK</td>\n",
       "    </tr>\n",
       "    <tr>\n",
       "      <th>11</th>\n",
       "      <td>215</td>\n",
       "      <td>100</td>\n",
       "      <td>TAVUK</td>\n",
       "    </tr>\n",
       "  </tbody>\n",
       "</table>\n",
       "</div>"
      ],
      "text/plain": [
       "    kalori  miktar yiyecek\n",
       "0       15       5     BAL\n",
       "1      651     100   CEVIZ\n",
       "2      360       5   NOHUT\n",
       "3      108      24   SUCUK\n",
       "4      156     100  BIFTEK\n",
       "5      215     100   TAVUK\n",
       "6       15       5     BAL\n",
       "7      651     100   CEVIZ\n",
       "8      360       5   NOHUT\n",
       "9      108      24   SUCUK\n",
       "10     156     100  BIFTEK\n",
       "11     215     100   TAVUK"
      ]
     },
     "execution_count": 163,
     "metadata": {},
     "output_type": "execute_result"
    }
   ],
   "source": [
    "cift.reset_index(drop = True, inplace = True)\n",
    "cift"
   ]
  },
  {
   "cell_type": "markdown",
   "metadata": {},
   "source": [
    "Miktar birimimiz gram idi. Bunu kilograma çevirelim."
   ]
  },
  {
   "cell_type": "code",
   "execution_count": 164,
   "metadata": {},
   "outputs": [
    {
     "data": {
      "text/html": [
       "<div>\n",
       "<style scoped>\n",
       "    .dataframe tbody tr th:only-of-type {\n",
       "        vertical-align: middle;\n",
       "    }\n",
       "\n",
       "    .dataframe tbody tr th {\n",
       "        vertical-align: top;\n",
       "    }\n",
       "\n",
       "    .dataframe thead th {\n",
       "        text-align: right;\n",
       "    }\n",
       "</style>\n",
       "<table border=\"1\" class=\"dataframe\">\n",
       "  <thead>\n",
       "    <tr style=\"text-align: right;\">\n",
       "      <th></th>\n",
       "      <th>kalori</th>\n",
       "      <th>miktar</th>\n",
       "      <th>yiyecek</th>\n",
       "    </tr>\n",
       "  </thead>\n",
       "  <tbody>\n",
       "    <tr>\n",
       "      <th>0</th>\n",
       "      <td>15</td>\n",
       "      <td>0.005</td>\n",
       "      <td>BAL</td>\n",
       "    </tr>\n",
       "    <tr>\n",
       "      <th>1</th>\n",
       "      <td>651</td>\n",
       "      <td>0.100</td>\n",
       "      <td>CEVIZ</td>\n",
       "    </tr>\n",
       "    <tr>\n",
       "      <th>2</th>\n",
       "      <td>360</td>\n",
       "      <td>0.005</td>\n",
       "      <td>NOHUT</td>\n",
       "    </tr>\n",
       "    <tr>\n",
       "      <th>3</th>\n",
       "      <td>108</td>\n",
       "      <td>0.024</td>\n",
       "      <td>SUCUK</td>\n",
       "    </tr>\n",
       "    <tr>\n",
       "      <th>4</th>\n",
       "      <td>156</td>\n",
       "      <td>0.100</td>\n",
       "      <td>BIFTEK</td>\n",
       "    </tr>\n",
       "    <tr>\n",
       "      <th>5</th>\n",
       "      <td>215</td>\n",
       "      <td>0.100</td>\n",
       "      <td>TAVUK</td>\n",
       "    </tr>\n",
       "    <tr>\n",
       "      <th>6</th>\n",
       "      <td>15</td>\n",
       "      <td>0.005</td>\n",
       "      <td>BAL</td>\n",
       "    </tr>\n",
       "    <tr>\n",
       "      <th>7</th>\n",
       "      <td>651</td>\n",
       "      <td>0.100</td>\n",
       "      <td>CEVIZ</td>\n",
       "    </tr>\n",
       "    <tr>\n",
       "      <th>8</th>\n",
       "      <td>360</td>\n",
       "      <td>0.005</td>\n",
       "      <td>NOHUT</td>\n",
       "    </tr>\n",
       "    <tr>\n",
       "      <th>9</th>\n",
       "      <td>108</td>\n",
       "      <td>0.024</td>\n",
       "      <td>SUCUK</td>\n",
       "    </tr>\n",
       "    <tr>\n",
       "      <th>10</th>\n",
       "      <td>156</td>\n",
       "      <td>0.100</td>\n",
       "      <td>BIFTEK</td>\n",
       "    </tr>\n",
       "    <tr>\n",
       "      <th>11</th>\n",
       "      <td>215</td>\n",
       "      <td>0.100</td>\n",
       "      <td>TAVUK</td>\n",
       "    </tr>\n",
       "  </tbody>\n",
       "</table>\n",
       "</div>"
      ],
      "text/plain": [
       "    kalori  miktar yiyecek\n",
       "0       15   0.005     BAL\n",
       "1      651   0.100   CEVIZ\n",
       "2      360   0.005   NOHUT\n",
       "3      108   0.024   SUCUK\n",
       "4      156   0.100  BIFTEK\n",
       "5      215   0.100   TAVUK\n",
       "6       15   0.005     BAL\n",
       "7      651   0.100   CEVIZ\n",
       "8      360   0.005   NOHUT\n",
       "9      108   0.024   SUCUK\n",
       "10     156   0.100  BIFTEK\n",
       "11     215   0.100   TAVUK"
      ]
     },
     "execution_count": 164,
     "metadata": {},
     "output_type": "execute_result"
    }
   ],
   "source": [
    "cift[\"miktar\"] = [miktar / 1000 for miktar in cift.miktar]\n",
    "cift"
   ]
  },
  {
   "cell_type": "markdown",
   "metadata": {},
   "source": [
    "Gramdan kilograma çeviren bir fonksiyon tanımlayalım"
   ]
  },
  {
   "cell_type": "code",
   "execution_count": 165,
   "metadata": {},
   "outputs": [],
   "source": [
    "def kg2gr(x):\n",
    "    return x * 1000"
   ]
  },
  {
   "cell_type": "markdown",
   "metadata": {},
   "source": [
    "Miktar sütununa bu fonksiyonu uygulayarak tekrar miktarın birimini gram olarak değiştirelim."
   ]
  },
  {
   "cell_type": "code",
   "execution_count": 166,
   "metadata": {},
   "outputs": [
    {
     "data": {
      "text/html": [
       "<div>\n",
       "<style scoped>\n",
       "    .dataframe tbody tr th:only-of-type {\n",
       "        vertical-align: middle;\n",
       "    }\n",
       "\n",
       "    .dataframe tbody tr th {\n",
       "        vertical-align: top;\n",
       "    }\n",
       "\n",
       "    .dataframe thead th {\n",
       "        text-align: right;\n",
       "    }\n",
       "</style>\n",
       "<table border=\"1\" class=\"dataframe\">\n",
       "  <thead>\n",
       "    <tr style=\"text-align: right;\">\n",
       "      <th></th>\n",
       "      <th>kalori</th>\n",
       "      <th>miktar</th>\n",
       "      <th>yiyecek</th>\n",
       "    </tr>\n",
       "  </thead>\n",
       "  <tbody>\n",
       "    <tr>\n",
       "      <th>0</th>\n",
       "      <td>15</td>\n",
       "      <td>5.0</td>\n",
       "      <td>BAL</td>\n",
       "    </tr>\n",
       "    <tr>\n",
       "      <th>1</th>\n",
       "      <td>651</td>\n",
       "      <td>100.0</td>\n",
       "      <td>CEVIZ</td>\n",
       "    </tr>\n",
       "    <tr>\n",
       "      <th>2</th>\n",
       "      <td>360</td>\n",
       "      <td>5.0</td>\n",
       "      <td>NOHUT</td>\n",
       "    </tr>\n",
       "    <tr>\n",
       "      <th>3</th>\n",
       "      <td>108</td>\n",
       "      <td>24.0</td>\n",
       "      <td>SUCUK</td>\n",
       "    </tr>\n",
       "    <tr>\n",
       "      <th>4</th>\n",
       "      <td>156</td>\n",
       "      <td>100.0</td>\n",
       "      <td>BIFTEK</td>\n",
       "    </tr>\n",
       "    <tr>\n",
       "      <th>5</th>\n",
       "      <td>215</td>\n",
       "      <td>100.0</td>\n",
       "      <td>TAVUK</td>\n",
       "    </tr>\n",
       "    <tr>\n",
       "      <th>6</th>\n",
       "      <td>15</td>\n",
       "      <td>5.0</td>\n",
       "      <td>BAL</td>\n",
       "    </tr>\n",
       "    <tr>\n",
       "      <th>7</th>\n",
       "      <td>651</td>\n",
       "      <td>100.0</td>\n",
       "      <td>CEVIZ</td>\n",
       "    </tr>\n",
       "    <tr>\n",
       "      <th>8</th>\n",
       "      <td>360</td>\n",
       "      <td>5.0</td>\n",
       "      <td>NOHUT</td>\n",
       "    </tr>\n",
       "    <tr>\n",
       "      <th>9</th>\n",
       "      <td>108</td>\n",
       "      <td>24.0</td>\n",
       "      <td>SUCUK</td>\n",
       "    </tr>\n",
       "    <tr>\n",
       "      <th>10</th>\n",
       "      <td>156</td>\n",
       "      <td>100.0</td>\n",
       "      <td>BIFTEK</td>\n",
       "    </tr>\n",
       "    <tr>\n",
       "      <th>11</th>\n",
       "      <td>215</td>\n",
       "      <td>100.0</td>\n",
       "      <td>TAVUK</td>\n",
       "    </tr>\n",
       "  </tbody>\n",
       "</table>\n",
       "</div>"
      ],
      "text/plain": [
       "    kalori  miktar yiyecek\n",
       "0       15     5.0     BAL\n",
       "1      651   100.0   CEVIZ\n",
       "2      360     5.0   NOHUT\n",
       "3      108    24.0   SUCUK\n",
       "4      156   100.0  BIFTEK\n",
       "5      215   100.0   TAVUK\n",
       "6       15     5.0     BAL\n",
       "7      651   100.0   CEVIZ\n",
       "8      360     5.0   NOHUT\n",
       "9      108    24.0   SUCUK\n",
       "10     156   100.0  BIFTEK\n",
       "11     215   100.0   TAVUK"
      ]
     },
     "execution_count": 166,
     "metadata": {},
     "output_type": "execute_result"
    }
   ],
   "source": [
    "cift.miktar = cift.miktar.apply(kg2gr)\n",
    "cift"
   ]
  },
  {
   "cell_type": "markdown",
   "metadata": {
    "colab_type": "text",
    "id": "zncwdQEL67-7"
   },
   "source": [
    "## Matplotlib"
   ]
  },
  {
   "cell_type": "markdown",
   "metadata": {
    "colab_type": "text",
    "id": "fmdDbVgb67-7"
   },
   "source": [
    "Matplotlib bir çizim kütüphanesidir. Bu bölümde kütüphane içerisinde yer alan `matplotlib.pyplot` modülünü inceleyeceğiz."
   ]
  },
  {
   "cell_type": "code",
   "execution_count": 167,
   "metadata": {
    "colab": {},
    "colab_type": "code",
    "id": "GHykUyab67-8"
   },
   "outputs": [],
   "source": [
    "import matplotlib.pyplot as plt"
   ]
  },
  {
   "cell_type": "markdown",
   "metadata": {
    "colab_type": "text",
    "id": "BW_9crWx67-9"
   },
   "source": [
    "### Çizdirme (Plotting)"
   ]
  },
  {
   "cell_type": "markdown",
   "metadata": {
    "colab_type": "text",
    "id": "6OWj2Lv167--"
   },
   "source": [
    "2 boyutlu verileri çizdirmek için `matplotlib.pyplot` modülünde bulunan `plot` fonksiyonu kullanılmaktadır."
   ]
  },
  {
   "cell_type": "markdown",
   "metadata": {},
   "source": [
    "#### Sinüs Fonksiyonu"
   ]
  },
  {
   "cell_type": "code",
   "execution_count": 168,
   "metadata": {
    "colab": {},
    "colab_type": "code",
    "id": "-sWSYM4S67--",
    "outputId": "490b431e-483f-4b52-eabd-75ebf9fbacc2"
   },
   "outputs": [
    {
     "data": {
      "text/plain": [
       "[<matplotlib.lines.Line2D at 0x10d150048>]"
      ]
     },
     "execution_count": 168,
     "metadata": {},
     "output_type": "execute_result"
    },
    {
     "data": {
      "image/png": "[encoded data removed]",
      "text/plain": [
       "<Figure size 432x288 with 1 Axes>"
      ]
     },
     "metadata": {},
     "output_type": "display_data"
    }
   ],
   "source": [
    "# Sinüs eğrisinde her bir noktanın x ve y koordinatlarını hesaplayalım\n",
    "x = np.arange(0, 3 * np.pi, 0.1) # 0'dan 3*pi'ye 0.1 aralıklı değerler\n",
    "y = np.sin(x) # x değerlerinden sinüs değerlerini hesaplayalım\n",
    "\n",
    "plt.plot(x, y) # ekranda gösterelim "
   ]
  },
  {
   "cell_type": "code",
   "execution_count": 169,
   "metadata": {
    "colab": {},
    "colab_type": "code",
    "id": "3UdMU6Ag67_A",
    "outputId": "a6e9256c-b84a-433b-ca6a-fb97d82a2cd5"
   },
   "outputs": [
    {
     "data": {
      "image/png": "[encoded data removed]",
      "text/plain": [
       "<Figure size 432x288 with 1 Axes>"
      ]
     },
     "metadata": {},
     "output_type": "display_data"
    }
   ],
   "source": [
    "y_sin = np.sin(x)\n",
    "y_cos = np.cos(x)\n",
    "\n",
    "plt.plot(x, y_sin)\n",
    "plt.plot(x, y_cos)\n",
    "plt.xlabel('x ekseni')\n",
    "plt.ylabel('y ekseni')\n",
    "plt.title('Sinüs and Kosinüs')\n",
    "plt.legend(['sinüs', 'kosinüs'])\n",
    "plt.savefig('sincos.jpg') # çizimi resim dosyası olarak kaydedelim "
   ]
  },
  {
   "cell_type": "markdown",
   "metadata": {
    "colab_type": "text",
    "id": "Ykk1Ld9S67_C"
   },
   "source": [
    "### Alt Çizimler (Subplots)"
   ]
  },
  {
   "cell_type": "markdown",
   "metadata": {
    "colab_type": "text",
    "id": "01fzthYz67_C"
   },
   "source": [
    "Bir görselde birden fazla alt çizimi `subplot` fonksiyonu ile gösterebiliriz."
   ]
  },
  {
   "cell_type": "code",
   "execution_count": 170,
   "metadata": {
    "colab": {},
    "colab_type": "code",
    "id": "QbCFDTLx67_D",
    "outputId": "7ca5d351-0668-4db5-9d8c-ceb18b337cfc"
   },
   "outputs": [
    {
     "data": {
      "image/png": "[encoded data removed]",
      "text/plain": [
       "<Figure size 432x288 with 2 Axes>"
      ]
     },
     "metadata": {},
     "output_type": "display_data"
    }
   ],
   "source": [
    "# Sinüs ve Kosinüs için x ve y koorinatlarını hesaplayalım\n",
    "x = np.arange(0, 3 * np.pi, 0.1)\n",
    "y_sin = np.sin(x)\n",
    "y_cos = np.cos(x)\n",
    "\n",
    "# Yükseklik: 2 ve Genişlik = 1 olarak tanımlayalım\n",
    "# Yani en fazla 2 alt çizim gösterebiliriz.\n",
    "\n",
    "# İlk alt çizimi (Sinüs) tanımlayalım\n",
    "plt.subplot(2, 1, 1)\n",
    "plt.plot(x, y_sin)\n",
    "plt.title('Sinüs')\n",
    "\n",
    "# İkinci alt çizimi (Kosinüs) tanımlayalım\n",
    "plt.subplot(2, 1, 2)\n",
    "plt.plot(x, y_cos)\n",
    "plt.title('Kosinüs')\n",
    "\n",
    "# Alt çizimleri ekranda gösterelim\n",
    "plt.show()"
   ]
  },
  {
   "cell_type": "markdown",
   "metadata": {
    "colab_type": "text",
    "id": "EqnLLCIR67_E"
   },
   "source": [
    "`subplot` fonksiyonu hakkında daha fazla bilgi için [dokümanına](http://matplotlib.org/api/pyplot_api.html#matplotlib.pyplot.subplot) göz atabilirsiniz."
   ]
  },
  {
   "cell_type": "markdown",
   "metadata": {
    "colab_type": "text",
    "id": "pMhg6t1k675D"
   },
   "source": [
    "## Referanslar\n",
    "\n",
    "- [CS231n Python Numpy Tutorial](http://cs231n.github.io/python-numpy-tutorial/)\n",
    "- [Python için Türkçe Kılavuz](https://belgeler.yazbel.com/python-istihza.pdf)\n",
    "- [Python: Sıfırdan Uzmanlığa Programlama](https://www.udemy.com/python-sfrdan-uzmanlga-programlama-1/?site_ref=discudemy.com)"
   ]
  },
  {
   "cell_type": "markdown",
   "metadata": {},
   "source": [
    "# Değişim Kaydı\n",
    "\n",
    "#### 23 Ağustos 2018\n",
    "\n",
    "- İlk yükleme.\n",
    "\n",
    "#### 2 Eylül 2018\n",
    "\n",
    "- Jupyter Notebook Viewer ve Github linkleri eklendi.\n",
    "- Pandas bölümü eklendi. \n",
    "- Python Sıfırdan Uzmanlığa Programlama kursununda anlatılanların tamamını içerecek şekilde eklemeler yapıldı.\n",
    "- Yazım hataları düzeltildi."
   ]
  }
 ],
 "metadata": {
  "colab": {
   "collapsed_sections": [
    "PTAHQLZT676R",
    "NNuBO6bO676k",
    "nwS9wFGQ677T",
    "DuAK2VqV677V",
    "mGpcOZPC677p",
    "e7kQtwzD677t",
    "UtYuRtNI6772",
    "LaNwQCYW678K",
    "ct0A73Vz678p",
    "SzvCeQ3P6786",
    "zRSvC60r679G",
    "Bm13r-al679M",
    "pBw0NtmC679Q",
    "qN3x1ulv679o",
    "UheI9Iau67-K",
    "blV4fLzx67-N",
    "drTuqVch67-o",
    "BW_9crWx67-9",
    "Ykk1Ld9S67_C"
   ],
   "name": "cs228-python-tutorial.ipynb",
   "provenance": [],
   "version": "0.3.2"
  },
  "kernelspec": {
   "display_name": "Python 3",
   "language": "python",
   "name": "python3"
  },
  "language_info": {
   "codemirror_mode": {
    "name": "ipython",
    "version": 3
   },
   "file_extension": ".py",
   "mimetype": "text/x-python",
   "name": "python",
   "nbconvert_exporter": "python",
   "pygments_lexer": "ipython3",
   "version": "3.5.5"
  }
 },
 "nbformat": 4,
 "nbformat_minor": 2
}
